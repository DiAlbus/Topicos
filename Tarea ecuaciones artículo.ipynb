{
 "cells": [
  {
   "cell_type": "code",
   "execution_count": 21,
   "id": "0279e530-cc3f-4bfc-b65b-2938d92ba7e7",
   "metadata": {},
   "outputs": [],
   "source": [
    "from sympy import *\n",
    "import sympy as sp\n",
    "import numpy as np\n",
    "import scipy\n",
    "import matplotlib as mpl\n",
    "import matplotlib.pyplot as plt"
   ]
  },
  {
   "cell_type": "markdown",
   "id": "7e5f672e-8418-4f14-a8e2-1a89c533cf69",
   "metadata": {},
   "source": [
    "# 1. Ecuación logística"
   ]
  },
  {
   "cell_type": "markdown",
   "id": "84aeaf4a-0d9a-419e-bbce-033e874eb9df",
   "metadata": {},
   "source": [
    "#### Se definen las variables"
   ]
  },
  {
   "cell_type": "code",
   "execution_count": 7,
   "id": "94df8a7c-3fbe-4023-b6eb-c37c86a6b6a6",
   "metadata": {},
   "outputs": [],
   "source": [
    "t = sp.symbols('t')\n",
    "p = sp.Function('p')\n",
    "a = sp.symbols('a')\n",
    "b = sp.symbols('b')\n",
    "p0 = sp.symbols('p0')"
   ]
  },
  {
   "cell_type": "markdown",
   "id": "94a6a142-5773-4d7b-8db5-82cbdc00e3c2",
   "metadata": {},
   "source": [
    "#### Se define la ecuación"
   ]
  },
  {
   "cell_type": "code",
   "execution_count": 9,
   "id": "0c2af93c-1dc0-4855-8537-3af77ebadab1",
   "metadata": {},
   "outputs": [
    {
     "data": {
      "text/latex": [
       "$\\displaystyle - a p{\\left(t \\right)} + b p^{2}{\\left(t \\right)} + \\frac{d}{d t} p{\\left(t \\right)} = 0$"
      ],
      "text/plain": [
       "Eq(-a*p(t) + b*p(t)**2 + Derivative(p(t), t), 0)"
      ]
     },
     "execution_count": 9,
     "metadata": {},
     "output_type": "execute_result"
    }
   ],
   "source": [
    "ode = sp.Eq( sp.Derivative(p(t), t) -a*p(t) +b*p(t)*p(t), 0 )\n",
    "ode"
   ]
  },
  {
   "cell_type": "markdown",
   "id": "14307cfa-8a6e-4307-bbc7-7ccc62227398",
   "metadata": {},
   "source": [
    "#### Se resuelve la ecuación"
   ]
  },
  {
   "cell_type": "code",
   "execution_count": 10,
   "id": "fda51715-f5ce-45cd-a985-e1c9969786c3",
   "metadata": {},
   "outputs": [
    {
     "data": {
      "text/latex": [
       "$\\displaystyle p{\\left(t \\right)} = \\frac{a e^{a \\left(t + \\frac{\\log{\\left(\\frac{b p_{0}}{- a + b p_{0}} \\right)}}{a}\\right)}}{b \\left(e^{a \\left(t + \\frac{\\log{\\left(\\frac{b p_{0}}{- a + b p_{0}} \\right)}}{a}\\right)} - 1\\right)}$"
      ],
      "text/plain": [
       "Eq(p(t), a*exp(a*(t + log(b*p0/(-a + b*p0))/a))/(b*(exp(a*(t + log(b*p0/(-a + b*p0))/a)) - 1)))"
      ]
     },
     "execution_count": 10,
     "metadata": {},
     "output_type": "execute_result"
    }
   ],
   "source": [
    "sol = sp.dsolve( ode, p(t), ics={p(0):p0} )\n",
    "sol"
   ]
  },
  {
   "cell_type": "markdown",
   "id": "b2f4dda8-b243-440e-943a-23cb517e4939",
   "metadata": {},
   "source": [
    "#### Se dan valores a \\$a,\\ b\\ \\text{y}\\ p_0$ y se evaluan las respectivas soluciones"
   ]
  },
  {
   "cell_type": "code",
   "execution_count": 12,
   "id": "fdbe0b68-b531-44a5-9d06-e2056e85d071",
   "metadata": {},
   "outputs": [
    {
     "data": {
      "text/latex": [
       "$\\displaystyle p{\\left(t \\right)} = - \\frac{5.08474576271187 e^{0.03 t}}{- 0.0169491525423729 e^{0.03 t} - 1}$"
      ],
      "text/plain": [
       "Eq(p(t), -5.08474576271187*exp(0.03*t)/(-0.0169491525423729*exp(0.03*t) - 1))"
      ]
     },
     "execution_count": 12,
     "metadata": {},
     "output_type": "execute_result"
    }
   ],
   "source": [
    "constants = {a:0.03, b:0.0001, p0:5}\n",
    "sol1 = sol.subs(constants)\n",
    "sol1"
   ]
  },
  {
   "cell_type": "code",
   "execution_count": 13,
   "id": "60b9b269-5228-4aec-b95e-1bd4dc246f7e",
   "metadata": {},
   "outputs": [
    {
     "data": {
      "text/latex": [
       "$\\displaystyle p{\\left(t \\right)} = - \\frac{6.12244897959184 e^{0.03 t}}{- 0.0204081632653061 e^{0.03 t} - 1}$"
      ],
      "text/plain": [
       "Eq(p(t), -6.12244897959184*exp(0.03*t)/(-0.0204081632653061*exp(0.03*t) - 1))"
      ]
     },
     "execution_count": 13,
     "metadata": {},
     "output_type": "execute_result"
    }
   ],
   "source": [
    "constants = {a:0.03, b:0.0001, p0:6}\n",
    "sol2 = sol.subs(constants)\n",
    "sol2"
   ]
  },
  {
   "cell_type": "code",
   "execution_count": 14,
   "id": "10dcd665-d257-487d-95ce-4c688b4a09bd",
   "metadata": {},
   "outputs": [
    {
     "data": {
      "text/latex": [
       "$\\displaystyle p{\\left(t \\right)} = - \\frac{7.16723549488055 e^{0.03 t}}{- 0.0238907849829352 e^{0.03 t} - 1}$"
      ],
      "text/plain": [
       "Eq(p(t), -7.16723549488055*exp(0.03*t)/(-0.0238907849829352*exp(0.03*t) - 1))"
      ]
     },
     "execution_count": 14,
     "metadata": {},
     "output_type": "execute_result"
    }
   ],
   "source": [
    "constants = {a:0.03, b:0.0001, p0:7}\n",
    "sol3 = sol.subs(constants)\n",
    "sol3"
   ]
  },
  {
   "cell_type": "markdown",
   "id": "9ac2812b-2ae4-44f2-8f3a-a24f8de6e8cf",
   "metadata": {},
   "source": [
    "#### Se grafican las soluciones"
   ]
  },
  {
   "cell_type": "code",
   "execution_count": 17,
   "id": "69e37510-e353-4b1e-8580-040fc8429b45",
   "metadata": {},
   "outputs": [],
   "source": [
    "#La función lambdify permite definir una función a partir de la expresión simbólica\n",
    "#rhs se refiere a right hand side, es decir, la expresión que se asigna en una variable\n",
    "#LHS | ES | RHS\n",
    "#variable_name | = | expresión\n",
    "func1 = sp.lambdify(t, sol1.rhs, 'numpy')\n",
    "func2 = sp.lambdify(t, sol2.rhs, 'numpy')\n",
    "func3 = sp.lambdify(t, sol3.rhs, 'numpy')"
   ]
  },
  {
   "cell_type": "code",
   "execution_count": 22,
   "id": "c3d557a9-73f6-453c-8713-28cba7fec47d",
   "metadata": {},
   "outputs": [],
   "source": [
    "#Partición\n",
    "tt = np.arange(0, 200, 1)\n",
    "#Evaluar las funciones\n",
    "pp1 = func1(tt)\n",
    "pp2 = func2(tt)\n",
    "pp3 = func3(tt)"
   ]
  },
  {
   "cell_type": "code",
   "execution_count": 25,
   "id": "00a96dd8-13d8-42b8-8fae-07fef511720d",
   "metadata": {},
   "outputs": [
    {
     "data": {
      "image/png": "[encoded data removed]",
      "text/plain": [
       "<Figure size 640x480 with 1 Axes>"
      ]
     },
     "metadata": {},
     "output_type": "display_data"
    }
   ],
   "source": [
    "#Graficar\n",
    "#'r', 'b' y 'g' son los colores\n",
    "plt.plot(tt, pp1, 'r', tt, pp2, 'b', tt, pp3, 'g')\n",
    "plt.xlabel('Tiempo t')\n",
    "plt.ylabel('Población p(t)')\n",
    "plt.show()"
   ]
  },
  {
   "cell_type": "markdown",
   "id": "7f9aad44-c883-4412-8278-8c7cf356846e",
   "metadata": {},
   "source": [
    "#### Se clasifica y se verifica la solución"
   ]
  },
  {
   "cell_type": "code",
   "execution_count": 26,
   "id": "4cfc6ae2-58cc-48cd-930a-377aaba158f1",
   "metadata": {},
   "outputs": [
    {
     "data": {
      "text/plain": [
       "('factorable',\n",
       " 'separable',\n",
       " '1st_exact',\n",
       " 'Bernoulli',\n",
       " '1st_rational_riccati',\n",
       " '1st_power_series',\n",
       " 'lie_group',\n",
       " 'separable_Integral',\n",
       " '1st_exact_Integral',\n",
       " 'Bernoulli_Integral')"
      ]
     },
     "execution_count": 26,
     "metadata": {},
     "output_type": "execute_result"
    }
   ],
   "source": [
    "classify_ode(ode)"
   ]
  },
  {
   "cell_type": "code",
   "execution_count": 28,
   "id": "2e5f5e8f-d965-4d23-a49f-b7f73b2bea4a",
   "metadata": {},
   "outputs": [
    {
     "data": {
      "text/latex": [
       "$\\displaystyle p{\\left(t \\right)} = \\frac{a e^{a \\left(C_{1} + t\\right)}}{b \\left(e^{a \\left(C_{1} + t\\right)} - 1\\right)}$"
      ],
      "text/plain": [
       "Eq(p(t), a*exp(a*(C1 + t))/(b*(exp(a*(C1 + t)) - 1)))"
      ]
     },
     "execution_count": 28,
     "metadata": {},
     "output_type": "execute_result"
    }
   ],
   "source": [
    "sol = dsolve(ode, p(t))\n",
    "sol"
   ]
  },
  {
   "cell_type": "code",
   "execution_count": 29,
   "id": "7a442a24-0e0b-4163-b36a-5583c61c566a",
   "metadata": {},
   "outputs": [
    {
     "data": {
      "text/plain": [
       "(True, 0)"
      ]
     },
     "execution_count": 29,
     "metadata": {},
     "output_type": "execute_result"
    }
   ],
   "source": [
    "checkodesol(ode, sol)"
   ]
  },
  {
   "cell_type": "markdown",
   "id": "171c3b45-233e-4d06-9a28-74c38ad6176a",
   "metadata": {},
   "source": [
    "#### Se muestra que el denominador por sí solo no es solución"
   ]
  },
  {
   "cell_type": "code",
   "execution_count": 30,
   "id": "20c031bb-d985-4764-b463-b8dd819aec18",
   "metadata": {},
   "outputs": [
    {
     "data": {
      "text/latex": [
       "$\\displaystyle b \\left(e^{a \\left(C_{1} + t\\right)} - 1\\right)$"
      ],
      "text/plain": [
       "b*(exp(a*(C1 + t)) - 1)"
      ]
     },
     "execution_count": 30,
     "metadata": {},
     "output_type": "execute_result"
    }
   ],
   "source": [
    "C1 = sp.symbols('C1')\n",
    "sol1 = b*( exp( a*(C1+t) ) -1 )\n",
    "sol1"
   ]
  },
  {
   "cell_type": "code",
   "execution_count": 31,
   "id": "e34ebbd7-1110-42af-ab14-c58221a9ae0a",
   "metadata": {},
   "outputs": [
    {
     "data": {
      "text/plain": [
       "(False, b*(a + b**2*(1 - exp(a*(C1 + t)))**2))"
      ]
     },
     "execution_count": 31,
     "metadata": {},
     "output_type": "execute_result"
    }
   ],
   "source": [
    "checkodesol(ode, sol1)"
   ]
  },
  {
   "cell_type": "markdown",
   "id": "165550ae-467d-419d-9a0a-6c46c9c2a3f9",
   "metadata": {},
   "source": [
    "---"
   ]
  },
  {
   "cell_type": "markdown",
   "id": "0cda71f5-53c6-480d-8654-b2cf90963cdb",
   "metadata": {},
   "source": [
    "# 2. Ecuación de Lagrange"
   ]
  },
  {
   "cell_type": "markdown",
   "id": "fa0227cc-a9a3-47dc-b2f3-1547ccd9f2aa",
   "metadata": {},
   "source": [
    "#### Se definen las variables"
   ]
  },
  {
   "cell_type": "code",
   "execution_count": 32,
   "id": "bce2c677-ea1f-4f6f-a90a-87355561b2ad",
   "metadata": {},
   "outputs": [],
   "source": [
    "x = sp.symbols('x')\n",
    "y = sp.Function('y')"
   ]
  },
  {
   "cell_type": "markdown",
   "id": "3edbcbdf-55fb-4668-905b-357746dc5ecb",
   "metadata": {},
   "source": [
    "#### Se define la ecuación"
   ]
  },
  {
   "cell_type": "code",
   "execution_count": 33,
   "id": "fe6a43ad-5f25-49c0-9a24-90b754c69200",
   "metadata": {},
   "outputs": [
    {
     "data": {
      "text/latex": [
       "$\\displaystyle 2 x \\frac{d}{d x} y{\\left(x \\right)} - y{\\left(x \\right)} + \\log{\\left(\\frac{d}{d x} y{\\left(x \\right)} \\right)} = 0$"
      ],
      "text/plain": [
       "Eq(2*x*Derivative(y(x), x) - y(x) + log(Derivative(y(x), x)), 0)"
      ]
     },
     "execution_count": 33,
     "metadata": {},
     "output_type": "execute_result"
    }
   ],
   "source": [
    "ode2 = sp.Eq( log( sp.Derivative(y(x), x) ) +2*x*sp.Derivative(y(x),x) -y(x), 0 )\n",
    "ode2"
   ]
  },
  {
   "cell_type": "markdown",
   "id": "7abecfd6-40b2-4074-b107-126d32eb22bd",
   "metadata": {},
   "source": [
    "#### Se resuelve la ecuación"
   ]
  },
  {
   "cell_type": "code",
   "execution_count": 34,
   "id": "a069b63f-5ab4-473f-becc-22b58d8ac436",
   "metadata": {},
   "outputs": [
    {
     "data": {
      "text/latex": [
       "$\\displaystyle C_{1} - y{\\left(x \\right)} - \\log{\\left(W\\left(2 x e^{y{\\left(x \\right)}}\\right) + 2 \\right)} + W\\left(2 x e^{y{\\left(x \\right)}}\\right) = 0$"
      ],
      "text/plain": [
       "Eq(C1 - y(x) - log(LambertW(2*x*exp(y(x))) + 2) + LambertW(2*x*exp(y(x))), 0)"
      ]
     },
     "execution_count": 34,
     "metadata": {},
     "output_type": "execute_result"
    }
   ],
   "source": [
    "sol2 = sp.dsolve(ode2, y(x))\n",
    "sol2"
   ]
  },
  {
   "cell_type": "markdown",
   "id": "f8e376af-8873-48d5-965f-1d833384dedc",
   "metadata": {},
   "source": [
    "---"
   ]
  },
  {
   "cell_type": "markdown",
   "id": "88d62e77-68d2-4e9e-b347-5c0fe3e7049f",
   "metadata": {},
   "source": [
    "# 3. Ecuación de Resonancia"
   ]
  },
  {
   "cell_type": "markdown",
   "id": "5e39982e-28ca-4200-a4cf-7c28baaefb59",
   "metadata": {},
   "source": [
    "#### Se definen las variables"
   ]
  },
  {
   "cell_type": "code",
   "execution_count": 35,
   "id": "8ff619e0-9bc3-4fd2-9666-be708804c2e6",
   "metadata": {},
   "outputs": [],
   "source": [
    "t = sp.symbols('t')\n",
    "y = sp.Function('y')"
   ]
  },
  {
   "cell_type": "markdown",
   "id": "e176ebb7-82ee-4484-8acd-7e6d99aa52eb",
   "metadata": {},
   "source": [
    "#### Se define la ecuación"
   ]
  },
  {
   "cell_type": "code",
   "execution_count": 52,
   "id": "7dbf654e-79e8-4160-9e70-0beec2a02829",
   "metadata": {},
   "outputs": [
    {
     "data": {
      "text/latex": [
       "$\\displaystyle 16 y{\\left(t \\right)} - 8 \\sin{\\left(4 t \\right)} + \\frac{d^{2}}{d t^{2}} y{\\left(t \\right)} = 0$"
      ],
      "text/plain": [
       "Eq(16*y(t) - 8*sin(4*t) + Derivative(y(t), (t, 2)), 0)"
      ]
     },
     "execution_count": 52,
     "metadata": {},
     "output_type": "execute_result"
    }
   ],
   "source": [
    "#sp.Derivative(y(t),t,t) Indica la segunda derivada respecto a t\n",
    "ode3 = sp.Eq( sp.Derivative(y(t),t,t) +16*y(t) -8*sin(4*t), 0 )\n",
    "ode3"
   ]
  },
  {
   "cell_type": "markdown",
   "id": "c34606c2-ae97-4cc5-8d7f-58fcc3ff5558",
   "metadata": {},
   "source": [
    "#### Se resuelve la ecuación diferencial"
   ]
  },
  {
   "cell_type": "code",
   "execution_count": 37,
   "id": "55676052-8cb9-47d5-b76a-af175b6d70f2",
   "metadata": {},
   "outputs": [
    {
     "data": {
      "text/latex": [
       "$\\displaystyle y{\\left(t \\right)} = C_{2} \\sin{\\left(4 t \\right)} + \\left(C_{1} - t\\right) \\cos{\\left(4 t \\right)}$"
      ],
      "text/plain": [
       "Eq(y(t), C2*sin(4*t) + (C1 - t)*cos(4*t))"
      ]
     },
     "execution_count": 37,
     "metadata": {},
     "output_type": "execute_result"
    }
   ],
   "source": [
    "sol3 = sp.dsolve(ode3, y(t))\n",
    "sol3"
   ]
  },
  {
   "cell_type": "markdown",
   "id": "25291a21-8f10-4cb3-9311-551b607ecd7c",
   "metadata": {},
   "source": [
    "#### Definimos las condiciones iniciales y sustituimos"
   ]
  },
  {
   "cell_type": "code",
   "execution_count": 40,
   "id": "a2812fab-2f45-461c-a254-1b016c64f985",
   "metadata": {},
   "outputs": [
    {
     "data": {
      "text/plain": [
       "{C1: 1, C2: 1/4}"
      ]
     },
     "execution_count": 40,
     "metadata": {},
     "output_type": "execute_result"
    }
   ],
   "source": [
    "C1, C2 = sp.symbols('C1,C2')\n",
    "const = sp.solve([ sol3.rhs.subs(t, 0)-1, sol3.rhs.diff(t, 1).subs(t, 0)-0 ])\n",
    "const"
   ]
  },
  {
   "cell_type": "code",
   "execution_count": 41,
   "id": "3f285a9f-8f5b-484e-9494-217d6ff0e0e2",
   "metadata": {},
   "outputs": [
    {
     "data": {
      "text/latex": [
       "$\\displaystyle y{\\left(t \\right)} = \\left(1 - t\\right) \\cos{\\left(4 t \\right)} + \\frac{\\sin{\\left(4 t \\right)}}{4}$"
      ],
      "text/plain": [
       "Eq(y(t), (1 - t)*cos(4*t) + sin(4*t)/4)"
      ]
     },
     "execution_count": 41,
     "metadata": {},
     "output_type": "execute_result"
    }
   ],
   "source": [
    "sol3 = sol3.subs(const)\n",
    "sol3"
   ]
  },
  {
   "cell_type": "markdown",
   "id": "bd00c197-747a-4dbd-bb1d-2f3e1a900151",
   "metadata": {},
   "source": [
    "#### Definimos una función a partir de la solución simbólica"
   ]
  },
  {
   "cell_type": "code",
   "execution_count": 42,
   "id": "0a2c487e-acaa-4d02-8292-97c1e58c04ad",
   "metadata": {},
   "outputs": [],
   "source": [
    "func1 = sp.lambdify(t, sol3.rhs, 'numpy')\n",
    "xx = np.arange(0, 10, 0.1)\n",
    "yy1 = func1(xx)"
   ]
  },
  {
   "cell_type": "markdown",
   "id": "e116dedb-2fc3-478a-a2c3-750cf1a7efe2",
   "metadata": {},
   "source": [
    "#### Graficamos"
   ]
  },
  {
   "cell_type": "code",
   "execution_count": 43,
   "id": "1f675cb9-4b7b-4328-b10b-efda6c90a27a",
   "metadata": {},
   "outputs": [
    {
     "data": {
      "image/png": "[encoded data removed]",
      "text/plain": [
       "<Figure size 640x480 with 1 Axes>"
      ]
     },
     "metadata": {},
     "output_type": "display_data"
    }
   ],
   "source": [
    "plt.plot(xx, yy1, 'r')\n",
    "plt.xlabel('Tiempo t')\n",
    "plt.xlabel('y(t)')\n",
    "plt.show()"
   ]
  },
  {
   "cell_type": "markdown",
   "id": "1192831c-8a51-422a-b14b-a1dfe893c990",
   "metadata": {},
   "source": [
    "---"
   ]
  },
  {
   "cell_type": "markdown",
   "id": "c3a0220e-00a0-4598-8859-8e84bb492008",
   "metadata": {},
   "source": [
    "# 4. Ecuación de tercer orden"
   ]
  },
  {
   "cell_type": "markdown",
   "id": "0d5e08c8-efd9-4a5c-bf62-7f2541fa44e1",
   "metadata": {},
   "source": [
    "#### Definimos las variables"
   ]
  },
  {
   "cell_type": "code",
   "execution_count": 44,
   "id": "ae2f0599-6e42-4e70-acfd-d4459b630e4f",
   "metadata": {},
   "outputs": [],
   "source": [
    "t = sp.symbols('t')\n",
    "y = sp.Function('y')\n",
    "g = sp.Function('g')"
   ]
  },
  {
   "cell_type": "markdown",
   "id": "41c8aabd-66c3-47f9-9401-6da8bf8dc3cc",
   "metadata": {},
   "source": [
    "#### Definimos la ecuación"
   ]
  },
  {
   "cell_type": "code",
   "execution_count": 55,
   "id": "bb05a13f-c96c-4fd0-8d1f-af7ee7eb509f",
   "metadata": {},
   "outputs": [
    {
     "data": {
      "text/latex": [
       "$\\displaystyle - g{\\left(t \\right)} + y{\\left(t \\right)} - \\frac{d}{d t} y{\\left(t \\right)} - \\frac{d^{2}}{d t^{2}} y{\\left(t \\right)} + \\frac{d^{3}}{d t^{3}} y{\\left(t \\right)} = 0$"
      ],
      "text/plain": [
       "Eq(-g(t) + y(t) - Derivative(y(t), t) - Derivative(y(t), (t, 2)) + Derivative(y(t), (t, 3)), 0)"
      ]
     },
     "execution_count": 55,
     "metadata": {},
     "output_type": "execute_result"
    }
   ],
   "source": [
    "#sp.Derivative(y(t), t, 3) es la función, la variable respecto a la cual derivar y el grado de derivación\n",
    "ode4 = sp.Eq( sp.Derivative(y(t), t, 3) -sp.Derivative(y(t), t, t) -sp.Derivative(y(t), t) +y(t) -g(t), 0 )\n",
    "ode4"
   ]
  },
  {
   "cell_type": "code",
   "execution_count": null,
   "id": "ef126077-8127-46c7-8977-86fd4c7a5bca",
   "metadata": {},
   "outputs": [],
   "source": []
  }
 ],
 "metadata": {
  "kernelspec": {
   "display_name": "Python 3 (ipykernel)",
   "language": "python",
   "name": "python3"
  },
  "language_info": {
   "codemirror_mode": {
    "name": "ipython",
    "version": 3
   },
   "file_extension": ".py",
   "mimetype": "text/x-python",
   "name": "python",
   "nbconvert_exporter": "python",
   "pygments_lexer": "ipython3",
   "version": "3.12.4"
  }
 },
 "nbformat": 4,
 "nbformat_minor": 5
}
