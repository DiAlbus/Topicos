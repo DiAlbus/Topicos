{
 "cells": [
  {
   "cell_type": "code",
   "execution_count": 129,
   "id": "0279e530-cc3f-4bfc-b65b-2938d92ba7e7",
   "metadata": {},
   "outputs": [],
   "source": [
    "from sympy import *\n",
    "from pylab import *\n",
    "import sympy as sp\n",
    "import numpy as np\n",
    "import scipy\n",
    "import matplotlib as mpl\n",
    "import matplotlib.pyplot as plt\n",
    "from scipy.integrate import odeint\n",
    "sin = np.sin"
   ]
  },
  {
   "cell_type": "markdown",
   "id": "7e5f672e-8418-4f14-a8e2-1a89c533cf69",
   "metadata": {},
   "source": [
    "# 1. Ecuación logística"
   ]
  },
  {
   "cell_type": "markdown",
   "id": "84aeaf4a-0d9a-419e-bbce-033e874eb9df",
   "metadata": {},
   "source": [
    "#### Se definen las variables"
   ]
  },
  {
   "cell_type": "code",
   "execution_count": 2,
   "id": "94df8a7c-3fbe-4023-b6eb-c37c86a6b6a6",
   "metadata": {},
   "outputs": [],
   "source": [
    "t = sp.symbols('t')\n",
    "p = sp.Function('p')\n",
    "a = sp.symbols('a')\n",
    "b = sp.symbols('b')\n",
    "p0 = sp.symbols('p0')"
   ]
  },
  {
   "cell_type": "markdown",
   "id": "94a6a142-5773-4d7b-8db5-82cbdc00e3c2",
   "metadata": {},
   "source": [
    "#### Se define la ecuación"
   ]
  },
  {
   "cell_type": "code",
   "execution_count": 3,
   "id": "0c2af93c-1dc0-4855-8537-3af77ebadab1",
   "metadata": {},
   "outputs": [
    {
     "data": {
      "text/latex": [
       "$\\displaystyle - a p{\\left(t \\right)} + b p^{2}{\\left(t \\right)} + \\frac{d}{d t} p{\\left(t \\right)} = 0$"
      ],
      "text/plain": [
       "Eq(-a*p(t) + b*p(t)**2 + Derivative(p(t), t), 0)"
      ]
     },
     "execution_count": 3,
     "metadata": {},
     "output_type": "execute_result"
    }
   ],
   "source": [
    "ode = sp.Eq( sp.Derivative(p(t), t) -a*p(t) +b*p(t)*p(t), 0 )\n",
    "ode"
   ]
  },
  {
   "cell_type": "markdown",
   "id": "14307cfa-8a6e-4307-bbc7-7ccc62227398",
   "metadata": {},
   "source": [
    "#### Se resuelve la ecuación"
   ]
  },
  {
   "cell_type": "code",
   "execution_count": 4,
   "id": "fda51715-f5ce-45cd-a985-e1c9969786c3",
   "metadata": {},
   "outputs": [
    {
     "data": {
      "text/latex": [
       "$\\displaystyle p{\\left(t \\right)} = \\frac{a e^{a \\left(t + \\frac{\\log{\\left(\\frac{b p_{0}}{- a + b p_{0}} \\right)}}{a}\\right)}}{b \\left(e^{a \\left(t + \\frac{\\log{\\left(\\frac{b p_{0}}{- a + b p_{0}} \\right)}}{a}\\right)} - 1\\right)}$"
      ],
      "text/plain": [
       "Eq(p(t), a*exp(a*(t + log(b*p0/(-a + b*p0))/a))/(b*(exp(a*(t + log(b*p0/(-a + b*p0))/a)) - 1)))"
      ]
     },
     "execution_count": 4,
     "metadata": {},
     "output_type": "execute_result"
    }
   ],
   "source": [
    "sol = sp.dsolve( ode, p(t), ics={p(0):p0} )\n",
    "sol"
   ]
  },
  {
   "cell_type": "markdown",
   "id": "b2f4dda8-b243-440e-943a-23cb517e4939",
   "metadata": {},
   "source": [
    "#### Se dan valores a \\$a,\\ b\\ \\text{y}\\ p_0$ y se evaluan las respectivas soluciones"
   ]
  },
  {
   "cell_type": "code",
   "execution_count": 5,
   "id": "fdbe0b68-b531-44a5-9d06-e2056e85d071",
   "metadata": {},
   "outputs": [
    {
     "data": {
      "text/latex": [
       "$\\displaystyle p{\\left(t \\right)} = - \\frac{5.08474576271187 e^{0.03 t}}{- 0.0169491525423729 e^{0.03 t} - 1}$"
      ],
      "text/plain": [
       "Eq(p(t), -5.08474576271187*exp(0.03*t)/(-0.0169491525423729*exp(0.03*t) - 1))"
      ]
     },
     "execution_count": 5,
     "metadata": {},
     "output_type": "execute_result"
    }
   ],
   "source": [
    "constants = {a:0.03, b:0.0001, p0:5}\n",
    "sol1 = sol.subs(constants)\n",
    "sol1"
   ]
  },
  {
   "cell_type": "code",
   "execution_count": 6,
   "id": "60b9b269-5228-4aec-b95e-1bd4dc246f7e",
   "metadata": {},
   "outputs": [
    {
     "data": {
      "text/latex": [
       "$\\displaystyle p{\\left(t \\right)} = - \\frac{6.12244897959184 e^{0.03 t}}{- 0.0204081632653061 e^{0.03 t} - 1}$"
      ],
      "text/plain": [
       "Eq(p(t), -6.12244897959184*exp(0.03*t)/(-0.0204081632653061*exp(0.03*t) - 1))"
      ]
     },
     "execution_count": 6,
     "metadata": {},
     "output_type": "execute_result"
    }
   ],
   "source": [
    "constants = {a:0.03, b:0.0001, p0:6}\n",
    "sol2 = sol.subs(constants)\n",
    "sol2"
   ]
  },
  {
   "cell_type": "code",
   "execution_count": 7,
   "id": "10dcd665-d257-487d-95ce-4c688b4a09bd",
   "metadata": {},
   "outputs": [
    {
     "data": {
      "text/latex": [
       "$\\displaystyle p{\\left(t \\right)} = - \\frac{7.16723549488055 e^{0.03 t}}{- 0.0238907849829352 e^{0.03 t} - 1}$"
      ],
      "text/plain": [
       "Eq(p(t), -7.16723549488055*exp(0.03*t)/(-0.0238907849829352*exp(0.03*t) - 1))"
      ]
     },
     "execution_count": 7,
     "metadata": {},
     "output_type": "execute_result"
    }
   ],
   "source": [
    "constants = {a:0.03, b:0.0001, p0:7}\n",
    "sol3 = sol.subs(constants)\n",
    "sol3"
   ]
  },
  {
   "cell_type": "markdown",
   "id": "9ac2812b-2ae4-44f2-8f3a-a24f8de6e8cf",
   "metadata": {},
   "source": [
    "#### Se grafican las soluciones"
   ]
  },
  {
   "cell_type": "code",
   "execution_count": 8,
   "id": "69e37510-e353-4b1e-8580-040fc8429b45",
   "metadata": {},
   "outputs": [],
   "source": [
    "#La función lambdify permite definir una función a partir de la expresión simbólica\n",
    "#rhs se refiere a right hand side, es decir, la expresión que se asigna en una variable\n",
    "#LHS | ES | RHS\n",
    "#variable_name | = | expresión\n",
    "func1 = sp.lambdify(t, sol1.rhs, 'numpy')\n",
    "func2 = sp.lambdify(t, sol2.rhs, 'numpy')\n",
    "func3 = sp.lambdify(t, sol3.rhs, 'numpy')"
   ]
  },
  {
   "cell_type": "code",
   "execution_count": 9,
   "id": "c3d557a9-73f6-453c-8713-28cba7fec47d",
   "metadata": {},
   "outputs": [],
   "source": [
    "#Partición\n",
    "tt = np.arange(0, 200, 1)\n",
    "#Evaluar las funciones\n",
    "pp1 = func1(tt)\n",
    "pp2 = func2(tt)\n",
    "pp3 = func3(tt)"
   ]
  },
  {
   "cell_type": "code",
   "execution_count": 10,
   "id": "00a96dd8-13d8-42b8-8fae-07fef511720d",
   "metadata": {},
   "outputs": [
    {
     "data": {
      "image/png": "[encoded data removed]",
      "text/plain": [
       "<Figure size 640x480 with 1 Axes>"
      ]
     },
     "metadata": {},
     "output_type": "display_data"
    }
   ],
   "source": [
    "#Graficar\n",
    "#'r', 'b' y 'g' son los colores\n",
    "plt.plot(tt, pp1, 'r', tt, pp2, 'b', tt, pp3, 'g')\n",
    "plt.xlabel('Tiempo t')\n",
    "plt.ylabel('Población p(t)')\n",
    "plt.show()"
   ]
  },
  {
   "cell_type": "markdown",
   "id": "7f9aad44-c883-4412-8278-8c7cf356846e",
   "metadata": {},
   "source": [
    "#### Se clasifica y se verifica la solución"
   ]
  },
  {
   "cell_type": "code",
   "execution_count": 11,
   "id": "4cfc6ae2-58cc-48cd-930a-377aaba158f1",
   "metadata": {},
   "outputs": [
    {
     "data": {
      "text/plain": [
       "('factorable',\n",
       " 'separable',\n",
       " '1st_exact',\n",
       " 'Bernoulli',\n",
       " '1st_rational_riccati',\n",
       " '1st_power_series',\n",
       " 'lie_group',\n",
       " 'separable_Integral',\n",
       " '1st_exact_Integral',\n",
       " 'Bernoulli_Integral')"
      ]
     },
     "execution_count": 11,
     "metadata": {},
     "output_type": "execute_result"
    }
   ],
   "source": [
    "classify_ode(ode)"
   ]
  },
  {
   "cell_type": "code",
   "execution_count": 12,
   "id": "2e5f5e8f-d965-4d23-a49f-b7f73b2bea4a",
   "metadata": {},
   "outputs": [
    {
     "data": {
      "text/latex": [
       "$\\displaystyle p{\\left(t \\right)} = \\frac{a e^{a \\left(C_{1} + t\\right)}}{b \\left(e^{a \\left(C_{1} + t\\right)} - 1\\right)}$"
      ],
      "text/plain": [
       "Eq(p(t), a*exp(a*(C1 + t))/(b*(exp(a*(C1 + t)) - 1)))"
      ]
     },
     "execution_count": 12,
     "metadata": {},
     "output_type": "execute_result"
    }
   ],
   "source": [
    "sol = dsolve(ode, p(t))\n",
    "sol"
   ]
  },
  {
   "cell_type": "code",
   "execution_count": 13,
   "id": "7a442a24-0e0b-4163-b36a-5583c61c566a",
   "metadata": {},
   "outputs": [
    {
     "data": {
      "text/plain": [
       "(True, 0)"
      ]
     },
     "execution_count": 13,
     "metadata": {},
     "output_type": "execute_result"
    }
   ],
   "source": [
    "checkodesol(ode, sol)"
   ]
  },
  {
   "cell_type": "markdown",
   "id": "171c3b45-233e-4d06-9a28-74c38ad6176a",
   "metadata": {},
   "source": [
    "#### Se muestra que el denominador por sí solo no es solución"
   ]
  },
  {
   "cell_type": "code",
   "execution_count": 14,
   "id": "20c031bb-d985-4764-b463-b8dd819aec18",
   "metadata": {},
   "outputs": [
    {
     "data": {
      "text/latex": [
       "$\\displaystyle b \\left(e^{a \\left(C_{1} + t\\right)} - 1\\right)$"
      ],
      "text/plain": [
       "b*(exp(a*(C1 + t)) - 1)"
      ]
     },
     "execution_count": 14,
     "metadata": {},
     "output_type": "execute_result"
    }
   ],
   "source": [
    "C1 = sp.symbols('C1')\n",
    "sol1 = b*( exp( a*(C1+t) ) -1 )\n",
    "sol1"
   ]
  },
  {
   "cell_type": "code",
   "execution_count": 15,
   "id": "e34ebbd7-1110-42af-ab14-c58221a9ae0a",
   "metadata": {},
   "outputs": [
    {
     "data": {
      "text/plain": [
       "(False, b*(a + b**2*(1 - exp(a*(C1 + t)))**2))"
      ]
     },
     "execution_count": 15,
     "metadata": {},
     "output_type": "execute_result"
    }
   ],
   "source": [
    "checkodesol(ode, sol1)"
   ]
  },
  {
   "cell_type": "markdown",
   "id": "165550ae-467d-419d-9a0a-6c46c9c2a3f9",
   "metadata": {},
   "source": [
    "---"
   ]
  },
  {
   "cell_type": "markdown",
   "id": "0cda71f5-53c6-480d-8654-b2cf90963cdb",
   "metadata": {},
   "source": [
    "# 2. Ecuación de Lagrange"
   ]
  },
  {
   "cell_type": "markdown",
   "id": "fa0227cc-a9a3-47dc-b2f3-1547ccd9f2aa",
   "metadata": {},
   "source": [
    "#### Se definen las variables"
   ]
  },
  {
   "cell_type": "code",
   "execution_count": 16,
   "id": "bce2c677-ea1f-4f6f-a90a-87355561b2ad",
   "metadata": {},
   "outputs": [],
   "source": [
    "x = sp.symbols('x')\n",
    "y = sp.Function('y')"
   ]
  },
  {
   "cell_type": "markdown",
   "id": "3edbcbdf-55fb-4668-905b-357746dc5ecb",
   "metadata": {},
   "source": [
    "#### Se define la ecuación"
   ]
  },
  {
   "cell_type": "code",
   "execution_count": 17,
   "id": "fe6a43ad-5f25-49c0-9a24-90b754c69200",
   "metadata": {},
   "outputs": [
    {
     "data": {
      "text/latex": [
       "$\\displaystyle 2 x \\frac{d}{d x} y{\\left(x \\right)} - y{\\left(x \\right)} + \\log{\\left(\\frac{d}{d x} y{\\left(x \\right)} \\right)} = 0$"
      ],
      "text/plain": [
       "Eq(2*x*Derivative(y(x), x) - y(x) + log(Derivative(y(x), x)), 0)"
      ]
     },
     "execution_count": 17,
     "metadata": {},
     "output_type": "execute_result"
    }
   ],
   "source": [
    "ode2 = sp.Eq( log( sp.Derivative(y(x), x) ) +2*x*sp.Derivative(y(x),x) -y(x), 0 )\n",
    "ode2"
   ]
  },
  {
   "cell_type": "markdown",
   "id": "7abecfd6-40b2-4074-b107-126d32eb22bd",
   "metadata": {},
   "source": [
    "#### Se resuelve la ecuación"
   ]
  },
  {
   "cell_type": "code",
   "execution_count": 18,
   "id": "a069b63f-5ab4-473f-becc-22b58d8ac436",
   "metadata": {},
   "outputs": [
    {
     "data": {
      "text/latex": [
       "$\\displaystyle C_{1} - y{\\left(x \\right)} - \\log{\\left(W\\left(2 x e^{y{\\left(x \\right)}}\\right) + 2 \\right)} + W\\left(2 x e^{y{\\left(x \\right)}}\\right) = 0$"
      ],
      "text/plain": [
       "Eq(C1 - y(x) - log(LambertW(2*x*exp(y(x))) + 2) + LambertW(2*x*exp(y(x))), 0)"
      ]
     },
     "execution_count": 18,
     "metadata": {},
     "output_type": "execute_result"
    }
   ],
   "source": [
    "sol2 = sp.dsolve(ode2, y(x))\n",
    "sol2"
   ]
  },
  {
   "cell_type": "markdown",
   "id": "f8e376af-8873-48d5-965f-1d833384dedc",
   "metadata": {},
   "source": [
    "---"
   ]
  },
  {
   "cell_type": "markdown",
   "id": "88d62e77-68d2-4e9e-b347-5c0fe3e7049f",
   "metadata": {},
   "source": [
    "# 3. Ecuación de Resonancia"
   ]
  },
  {
   "cell_type": "markdown",
   "id": "5e39982e-28ca-4200-a4cf-7c28baaefb59",
   "metadata": {},
   "source": [
    "#### Se definen las variables"
   ]
  },
  {
   "cell_type": "code",
   "execution_count": 19,
   "id": "8ff619e0-9bc3-4fd2-9666-be708804c2e6",
   "metadata": {},
   "outputs": [],
   "source": [
    "t = sp.symbols('t')\n",
    "y = sp.Function('y')"
   ]
  },
  {
   "cell_type": "markdown",
   "id": "e176ebb7-82ee-4484-8acd-7e6d99aa52eb",
   "metadata": {},
   "source": [
    "#### Se define la ecuación"
   ]
  },
  {
   "cell_type": "code",
   "execution_count": 20,
   "id": "7dbf654e-79e8-4160-9e70-0beec2a02829",
   "metadata": {},
   "outputs": [
    {
     "data": {
      "text/latex": [
       "$\\displaystyle 16 y{\\left(t \\right)} - 8 \\sin{\\left(4 t \\right)} + \\frac{d^{2}}{d t^{2}} y{\\left(t \\right)} = 0$"
      ],
      "text/plain": [
       "Eq(16*y(t) - 8*sin(4*t) + Derivative(y(t), (t, 2)), 0)"
      ]
     },
     "execution_count": 20,
     "metadata": {},
     "output_type": "execute_result"
    }
   ],
   "source": [
    "#sp.Derivative(y(t),t,t) Indica la segunda derivada respecto a t\n",
    "ode3 = sp.Eq( sp.Derivative(y(t),t,t) +16*y(t) -8*sin(4*t), 0 )\n",
    "ode3"
   ]
  },
  {
   "cell_type": "markdown",
   "id": "c34606c2-ae97-4cc5-8d7f-58fcc3ff5558",
   "metadata": {},
   "source": [
    "#### Se resuelve la ecuación diferencial"
   ]
  },
  {
   "cell_type": "code",
   "execution_count": 21,
   "id": "55676052-8cb9-47d5-b76a-af175b6d70f2",
   "metadata": {},
   "outputs": [
    {
     "data": {
      "text/latex": [
       "$\\displaystyle y{\\left(t \\right)} = C_{2} \\sin{\\left(4 t \\right)} + \\left(C_{1} - t\\right) \\cos{\\left(4 t \\right)}$"
      ],
      "text/plain": [
       "Eq(y(t), C2*sin(4*t) + (C1 - t)*cos(4*t))"
      ]
     },
     "execution_count": 21,
     "metadata": {},
     "output_type": "execute_result"
    }
   ],
   "source": [
    "sol3 = sp.dsolve(ode3, y(t))\n",
    "sol3"
   ]
  },
  {
   "cell_type": "markdown",
   "id": "25291a21-8f10-4cb3-9311-551b607ecd7c",
   "metadata": {},
   "source": [
    "#### Definimos las condiciones iniciales y sustituimos"
   ]
  },
  {
   "cell_type": "code",
   "execution_count": 22,
   "id": "a2812fab-2f45-461c-a254-1b016c64f985",
   "metadata": {},
   "outputs": [
    {
     "data": {
      "text/plain": [
       "{C1: 1, C2: 1/4}"
      ]
     },
     "execution_count": 22,
     "metadata": {},
     "output_type": "execute_result"
    }
   ],
   "source": [
    "C1, C2 = sp.symbols('C1,C2')\n",
    "const = sp.solve([ sol3.rhs.subs(t, 0)-1, sol3.rhs.diff(t, 1).subs(t, 0)-0 ])\n",
    "const"
   ]
  },
  {
   "cell_type": "code",
   "execution_count": 23,
   "id": "3f285a9f-8f5b-484e-9494-217d6ff0e0e2",
   "metadata": {},
   "outputs": [
    {
     "data": {
      "text/latex": [
       "$\\displaystyle y{\\left(t \\right)} = \\left(1 - t\\right) \\cos{\\left(4 t \\right)} + \\frac{\\sin{\\left(4 t \\right)}}{4}$"
      ],
      "text/plain": [
       "Eq(y(t), (1 - t)*cos(4*t) + sin(4*t)/4)"
      ]
     },
     "execution_count": 23,
     "metadata": {},
     "output_type": "execute_result"
    }
   ],
   "source": [
    "sol3 = sol3.subs(const)\n",
    "sol3"
   ]
  },
  {
   "cell_type": "markdown",
   "id": "bd00c197-747a-4dbd-bb1d-2f3e1a900151",
   "metadata": {},
   "source": [
    "#### Definimos una función a partir de la solución simbólica"
   ]
  },
  {
   "cell_type": "code",
   "execution_count": 24,
   "id": "0a2c487e-acaa-4d02-8292-97c1e58c04ad",
   "metadata": {},
   "outputs": [],
   "source": [
    "func1 = sp.lambdify(t, sol3.rhs, 'numpy')\n",
    "xx = np.arange(0, 10, 0.1)\n",
    "yy1 = func1(xx)"
   ]
  },
  {
   "cell_type": "markdown",
   "id": "e116dedb-2fc3-478a-a2c3-750cf1a7efe2",
   "metadata": {},
   "source": [
    "#### Graficamos"
   ]
  },
  {
   "cell_type": "code",
   "execution_count": 25,
   "id": "1f675cb9-4b7b-4328-b10b-efda6c90a27a",
   "metadata": {},
   "outputs": [
    {
     "data": {
      "image/png": "[encoded data removed]",
      "text/plain": [
       "<Figure size 640x480 with 1 Axes>"
      ]
     },
     "metadata": {},
     "output_type": "display_data"
    }
   ],
   "source": [
    "plt.plot(xx, yy1, 'r')\n",
    "plt.xlabel('Tiempo t')\n",
    "plt.xlabel('y(t)')\n",
    "plt.show()"
   ]
  },
  {
   "cell_type": "markdown",
   "id": "1192831c-8a51-422a-b14b-a1dfe893c990",
   "metadata": {},
   "source": [
    "---"
   ]
  },
  {
   "cell_type": "markdown",
   "id": "c3a0220e-00a0-4598-8859-8e84bb492008",
   "metadata": {},
   "source": [
    "# 4. Ecuación de tercer orden"
   ]
  },
  {
   "cell_type": "markdown",
   "id": "0d5e08c8-efd9-4a5c-bf62-7f2541fa44e1",
   "metadata": {},
   "source": [
    "#### Definimos las variables"
   ]
  },
  {
   "cell_type": "code",
   "execution_count": 26,
   "id": "ae2f0599-6e42-4e70-acfd-d4459b630e4f",
   "metadata": {},
   "outputs": [],
   "source": [
    "t = sp.symbols('t')\n",
    "y = sp.Function('y')\n",
    "g = sp.Function('g')"
   ]
  },
  {
   "cell_type": "markdown",
   "id": "41c8aabd-66c3-47f9-9401-6da8bf8dc3cc",
   "metadata": {},
   "source": [
    "#### Definimos la ecuación"
   ]
  },
  {
   "cell_type": "code",
   "execution_count": 27,
   "id": "bb05a13f-c96c-4fd0-8d1f-af7ee7eb509f",
   "metadata": {},
   "outputs": [
    {
     "data": {
      "text/latex": [
       "$\\displaystyle - g{\\left(t \\right)} + y{\\left(t \\right)} - \\frac{d}{d t} y{\\left(t \\right)} - \\frac{d^{2}}{d t^{2}} y{\\left(t \\right)} + \\frac{d^{3}}{d t^{3}} y{\\left(t \\right)} = 0$"
      ],
      "text/plain": [
       "Eq(-g(t) + y(t) - Derivative(y(t), t) - Derivative(y(t), (t, 2)) + Derivative(y(t), (t, 3)), 0)"
      ]
     },
     "execution_count": 27,
     "metadata": {},
     "output_type": "execute_result"
    }
   ],
   "source": [
    "#sp.Derivative(y(t), t, 3) es la función, la variable respecto a la cual derivar y el grado de derivación\n",
    "ode4 = sp.Eq( sp.Derivative(y(t), t, 3) -sp.Derivative(y(t), t, t) -sp.Derivative(y(t), t) +y(t) -g(t), 0 )\n",
    "ode4"
   ]
  },
  {
   "cell_type": "markdown",
   "id": "2393fee9-456f-498c-bad3-4f7e6f91d2da",
   "metadata": {},
   "source": [
    "#### Resolvemos la ecuación"
   ]
  },
  {
   "cell_type": "code",
   "execution_count": 28,
   "id": "b552f29b-7cc3-4dd6-9ad2-8989f9850d39",
   "metadata": {},
   "outputs": [
    {
     "data": {
      "text/latex": [
       "$\\displaystyle y{\\left(t \\right)} = \\left(C_{1} + \\frac{\\int g{\\left(t \\right)} e^{t}\\, dt}{4}\\right) e^{- t} + \\left(C_{2} + t \\left(C_{3} + \\frac{\\int g{\\left(t \\right)} e^{- t}\\, dt}{2}\\right) - \\frac{\\int \\left(2 t + 1\\right) g{\\left(t \\right)} e^{- t}\\, dt}{4}\\right) e^{t}$"
      ],
      "text/plain": [
       "Eq(y(t), (C1 + Integral(g(t)*exp(t), t)/4)*exp(-t) + (C2 + t*(C3 + Integral(g(t)*exp(-t), t)/2) - Integral((2*t + 1)*g(t)*exp(-t), t)/4)*exp(t))"
      ]
     },
     "execution_count": 28,
     "metadata": {},
     "output_type": "execute_result"
    }
   ],
   "source": [
    "sol4 = sp.dsolve(ode4, y(t))\n",
    "sol4"
   ]
  },
  {
   "cell_type": "markdown",
   "id": "5dccc337-5f70-4f1d-9bc3-0c25be6bec92",
   "metadata": {},
   "source": [
    "---"
   ]
  },
  {
   "cell_type": "markdown",
   "id": "9cb4aba5-04a9-4656-bc57-eb76ed991475",
   "metadata": {},
   "source": [
    "# 5. Una ecuación homogénea de Cauchy-Euler de cuarto orden"
   ]
  },
  {
   "cell_type": "markdown",
   "id": "c87bb7a0-76c1-4b3b-8187-771be7d00be2",
   "metadata": {},
   "source": [
    "#### Se definen las variables"
   ]
  },
  {
   "cell_type": "code",
   "execution_count": 29,
   "id": "6c40e376-367d-4ada-a499-0d12563b9ba3",
   "metadata": {},
   "outputs": [],
   "source": [
    "x = sp.symbols('x')\n",
    "y = sp.Function('y')"
   ]
  },
  {
   "cell_type": "markdown",
   "id": "9c7b52ca-fe38-4f0a-8144-b7666cf78b68",
   "metadata": {},
   "source": [
    "#### Se define la ecuación"
   ]
  },
  {
   "cell_type": "code",
   "execution_count": 31,
   "id": "3a54ed20-5a48-4774-972d-4f8bb0a49c95",
   "metadata": {},
   "outputs": [
    {
     "data": {
      "text/latex": [
       "$\\displaystyle x^{4} \\frac{d^{4}}{d x^{4}} y{\\left(x \\right)} + 6 x^{3} \\frac{d^{3}}{d x^{3}} y{\\left(x \\right)} + 9 x^{2} \\frac{d^{2}}{d x^{2}} y{\\left(x \\right)} + 3 x \\frac{d}{d x} y{\\left(x \\right)} + y{\\left(x \\right)} = 0$"
      ],
      "text/plain": [
       "Eq(x**4*Derivative(y(x), (x, 4)) + 6*x**3*Derivative(y(x), (x, 3)) + 9*x**2*Derivative(y(x), (x, 2)) + 3*x*Derivative(y(x), x) + y(x), 0)"
      ]
     },
     "execution_count": 31,
     "metadata": {},
     "output_type": "execute_result"
    }
   ],
   "source": [
    "ode5 = sp.Eq( x**4*sp.Derivative(y(x), x, 4) +6*x*x*x*sp.Derivative(y(x), x, 3) +9*x**2*sp.Derivative(y(x), x, 2) +3*x*sp.Derivative(y(x),x) +y(x), 0 )\n",
    "ode5"
   ]
  },
  {
   "cell_type": "markdown",
   "id": "cdda39fe-9963-429e-bc96-f825d1a0d31f",
   "metadata": {},
   "source": [
    "#### Se resuelve la ecuación"
   ]
  },
  {
   "cell_type": "code",
   "execution_count": 34,
   "id": "cf1a53da-689b-4e88-9001-972c294ee663",
   "metadata": {},
   "outputs": [
    {
     "data": {
      "text/latex": [
       "$\\displaystyle y{\\left(x \\right)} = C_{3} \\sin{\\left(\\log{\\left(x \\right)} \\right)} + C_{4} \\cos{\\left(\\log{\\left(x \\right)} \\right)} + \\left(C_{1} \\sin{\\left(\\log{\\left(x \\right)} \\right)} + C_{2} \\cos{\\left(\\log{\\left(x \\right)} \\right)}\\right) \\log{\\left(x \\right)}$"
      ],
      "text/plain": [
       "Eq(y(x), C3*sin(log(x)) + C4*cos(log(x)) + (C1*sin(log(x)) + C2*cos(log(x)))*log(x))"
      ]
     },
     "execution_count": 34,
     "metadata": {},
     "output_type": "execute_result"
    }
   ],
   "source": [
    "sol5 = sp.dsolve(ode5, y(x))\n",
    "sol5"
   ]
  },
  {
   "cell_type": "markdown",
   "id": "004d1377-11be-4d5e-baba-47bdb973c7c1",
   "metadata": {},
   "source": [
    "#### Se hace la sustitución \\$y=x^{n}$"
   ]
  },
  {
   "cell_type": "code",
   "execution_count": 36,
   "id": "d9e8cc8c-8c0d-41ff-9816-daff81dd6535",
   "metadata": {},
   "outputs": [
    {
     "data": {
      "text/latex": [
       "$\\displaystyle 9 n x^{n} \\left(n - 1\\right) + 6 n x^{n} \\left(n^{2} - 3 n + 2\\right) + n x^{n} \\left(n^{3} - 6 n^{2} + 11 n - 6\\right) + 3 n x^{n} + x^{n} = 0$"
      ],
      "text/plain": [
       "Eq(9*n*x**n*(n - 1) + 6*n*x**n*(n**2 - 3*n + 2) + n*x**n*(n**3 - 6*n**2 + 11*n - 6) + 3*n*x**n + x**n, 0)"
      ]
     },
     "execution_count": 36,
     "metadata": {},
     "output_type": "execute_result"
    }
   ],
   "source": [
    "n = sp.symbols('n')\n",
    "#ode5.subs() sustituye y por x^n\n",
    "eq = simplify(ode5.subs(y(x), x**n))\n",
    "eq"
   ]
  },
  {
   "cell_type": "markdown",
   "id": "46696259-b004-4dad-97de-fb890a2632da",
   "metadata": {},
   "source": [
    "#### Función auxiliar"
   ]
  },
  {
   "cell_type": "code",
   "execution_count": 38,
   "id": "2122591d-b899-41a2-84b3-863d41c172c3",
   "metadata": {},
   "outputs": [
    {
     "data": {
      "text/latex": [
       "$\\displaystyle x^{n} \\left(n^{2} + 1\\right)^{2} = 0$"
      ],
      "text/plain": [
       "Eq(x**n*(n**2 + 1)**2, 0)"
      ]
     },
     "execution_count": 38,
     "metadata": {},
     "output_type": "execute_result"
    }
   ],
   "source": [
    "#factor() factoriza un polinomio a factores irreducibles\n",
    "factor(eq)"
   ]
  },
  {
   "cell_type": "markdown",
   "id": "979552c4-9f18-427f-ae53-07fbff5ee376",
   "metadata": {},
   "source": [
    "---"
   ]
  },
  {
   "cell_type": "markdown",
   "id": "209eb067-4c8d-4e9d-bdc2-ececaeaa1dca",
   "metadata": {},
   "source": [
    "# 6. Un problema de valor inicial con deltas de Dirac como fuentes"
   ]
  },
  {
   "cell_type": "markdown",
   "id": "9865722d-aacd-4bb9-bf22-35f623e86f80",
   "metadata": {},
   "source": [
    "#### Se definen las variables"
   ]
  },
  {
   "cell_type": "code",
   "execution_count": 39,
   "id": "f5505b19-fbab-4583-9faa-d16417511660",
   "metadata": {},
   "outputs": [],
   "source": [
    "t = sp.symbols('t')\n",
    "y = sp.Function('y')"
   ]
  },
  {
   "cell_type": "markdown",
   "id": "5355d82a-bf70-4405-8282-113d0ee683b1",
   "metadata": {},
   "source": [
    "#### Se define la ecuación"
   ]
  },
  {
   "cell_type": "code",
   "execution_count": 42,
   "id": "364bdada-7bd3-4e9c-bf95-185e2e7b9269",
   "metadata": {},
   "outputs": [
    {
     "data": {
      "text/latex": [
       "$\\displaystyle 4 y{\\left(t \\right)} - 4 \\frac{d}{d t} y{\\left(t \\right)} + \\frac{d^{2}}{d t^{2}} y{\\left(t \\right)} = \\delta\\left(t - 2\\right) + 3 \\delta\\left(t - 1\\right)$"
      ],
      "text/plain": [
       "Eq(4*y(t) - 4*Derivative(y(t), t) + Derivative(y(t), (t, 2)), DiracDelta(t - 2) + 3*DiracDelta(t - 1))"
      ]
     },
     "execution_count": 42,
     "metadata": {},
     "output_type": "execute_result"
    }
   ],
   "source": [
    "ode6 = sp.Eq( sp.Derivative(y(t), t, 2) -4*sp.Derivative(y(t), t) +4*y(t), 3*DiracDelta(t-1) +DiracDelta(t-2) )\n",
    "ode6"
   ]
  },
  {
   "cell_type": "markdown",
   "id": "0e92bc9d-014c-4d9e-9ea2-66d4014e3e32",
   "metadata": {},
   "source": [
    "#### Se resuelve la ecuación"
   ]
  },
  {
   "cell_type": "code",
   "execution_count": 43,
   "id": "b77fe5ab-1722-4ecf-867b-90683e60dda7",
   "metadata": {},
   "outputs": [
    {
     "data": {
      "text/latex": [
       "$\\displaystyle y{\\left(t \\right)} = \\left(C_{1} + t \\left(C_{2} + \\frac{\\theta\\left(t - 2\\right)}{e^{4}} + \\frac{3 \\theta\\left(t - 1\\right)}{e^{2}}\\right) - \\frac{2 \\theta\\left(t - 2\\right)}{e^{4}} - \\frac{3 \\theta\\left(t - 1\\right)}{e^{2}}\\right) e^{2 t}$"
      ],
      "text/plain": [
       "Eq(y(t), (C1 + t*(C2 + exp(-4)*Heaviside(t - 2) + 3*exp(-2)*Heaviside(t - 1)) - 2*exp(-4)*Heaviside(t - 2) - 3*exp(-2)*Heaviside(t - 1))*exp(2*t))"
      ]
     },
     "execution_count": 43,
     "metadata": {},
     "output_type": "execute_result"
    }
   ],
   "source": [
    "sol6 = sp.dsolve(ode6)\n",
    "sol6"
   ]
  },
  {
   "cell_type": "markdown",
   "id": "4e193dc0-de8d-44df-99b7-687193e4be3e",
   "metadata": {},
   "source": [
    "#### Se resuelve la ecuación con constantes"
   ]
  },
  {
   "cell_type": "code",
   "execution_count": 44,
   "id": "fef8a099-d351-4ba6-9741-bc956ff6591d",
   "metadata": {},
   "outputs": [
    {
     "data": {
      "text/latex": [
       "$\\displaystyle y{\\left(t \\right)} = \\left(t \\left(\\frac{\\theta\\left(t - 2\\right)}{e^{4}} + \\frac{3 \\theta\\left(t - 1\\right)}{e^{2}} - 1\\right) - \\frac{2 \\theta\\left(t - 2\\right)}{e^{4}} - \\frac{3 \\theta\\left(t - 1\\right)}{e^{2}} + 1\\right) e^{2 t}$"
      ],
      "text/plain": [
       "Eq(y(t), (t*(exp(-4)*Heaviside(t - 2) + 3*exp(-2)*Heaviside(t - 1) - 1) - 2*exp(-4)*Heaviside(t - 2) - 3*exp(-2)*Heaviside(t - 1) + 1)*exp(2*t))"
      ]
     },
     "execution_count": 44,
     "metadata": {},
     "output_type": "execute_result"
    }
   ],
   "source": [
    "constants = solve( [sol6.rhs.subs(t,0) -1, sol6.rhs.diff(t, 1).subs(t, 0) -1] )\n",
    "sol6.subs(constants)"
   ]
  },
  {
   "cell_type": "markdown",
   "id": "1b82d43c-822f-40c4-b08d-9236fc98cfaa",
   "metadata": {},
   "source": [
    "---"
   ]
  },
  {
   "cell_type": "markdown",
   "id": "718808c2-2d42-4932-9672-664233c6bafc",
   "metadata": {},
   "source": [
    "# 7. Sistema masa-resorte"
   ]
  },
  {
   "cell_type": "markdown",
   "id": "2a88fcfd-6786-49e0-a9be-a139e93b8eb9",
   "metadata": {},
   "source": [
    "#### Se definen las variables"
   ]
  },
  {
   "cell_type": "code",
   "execution_count": 46,
   "id": "07d0834b-653f-4517-a980-e1a39dfe1c59",
   "metadata": {},
   "outputs": [],
   "source": [
    "t = sp.symbols('t')\n",
    "y = sp.Function('y')\n",
    "m = sp.symbols('m')\n",
    "k = sp.symbols('k')\n",
    "a = sp.symbols('a')"
   ]
  },
  {
   "cell_type": "markdown",
   "id": "85b03f0b-8490-4e35-9d90-f56753307f67",
   "metadata": {},
   "source": [
    "#### Se define la ecuación"
   ]
  },
  {
   "cell_type": "code",
   "execution_count": 48,
   "id": "90a08131-cfaf-493b-a26b-26925de70370",
   "metadata": {},
   "outputs": [
    {
     "data": {
      "text/latex": [
       "$\\displaystyle k y{\\left(t \\right)} e^{- a t} + m \\frac{d^{2}}{d t^{2}} y{\\left(t \\right)} = 0$"
      ],
      "text/plain": [
       "Eq(k*y(t)*exp(-a*t) + m*Derivative(y(t), (t, 2)), 0)"
      ]
     },
     "execution_count": 48,
     "metadata": {},
     "output_type": "execute_result"
    }
   ],
   "source": [
    "ode7 = sp.Eq( m*sp.Derivative(y(t), t, t) +k*exp(-a*t)*y(t), 0 )\n",
    "ode7"
   ]
  },
  {
   "cell_type": "markdown",
   "id": "5cb9f93c-af9f-4468-a50e-341a31e7028c",
   "metadata": {},
   "source": [
    "#### Se resuelve la ecuación"
   ]
  },
  {
   "cell_type": "code",
   "execution_count": 50,
   "id": "9ce9261c-f3a1-496d-8ef6-89f8dc1e6cf2",
   "metadata": {},
   "outputs": [
    {
     "data": {
      "text/latex": [
       "$\\displaystyle y{\\left(t \\right)} = C_{2} \\left(\\frac{k^{2} t^{4} e^{- 2 a t}}{24 m^{2}} - \\frac{k t^{2} e^{- a t}}{2 m} + 1\\right) + C_{1} t \\left(- \\frac{k t^{2} e^{- a t}}{6 m} + 1\\right) + O\\left(t^{6}\\right)$"
      ],
      "text/plain": [
       "Eq(y(t), C2*(k**2*t**4*exp(-2*a*t)/(24*m**2) - k*t**2*exp(-a*t)/(2*m) + 1) + C1*t*(-k*t**2*exp(-a*t)/(6*m) + 1) + O(t**6))"
      ]
     },
     "execution_count": 50,
     "metadata": {},
     "output_type": "execute_result"
    }
   ],
   "source": [
    "sol7 = sp.dsolve(ode7, y(t))\n",
    "sol7"
   ]
  },
  {
   "cell_type": "markdown",
   "id": "f8f2f78d-7320-44a4-9e7a-9b286141bebe",
   "metadata": {},
   "source": [
    "---"
   ]
  },
  {
   "cell_type": "markdown",
   "id": "8c1dab04-15c3-4237-bf81-c67224d2b1e3",
   "metadata": {},
   "source": [
    "# 8. Problema de valor inicial para un sistema de ecuaciones lineales"
   ]
  },
  {
   "cell_type": "markdown",
   "id": "9b16315b-c390-467f-a51a-2f665c657101",
   "metadata": {},
   "source": [
    "#### Se definen las variables"
   ]
  },
  {
   "cell_type": "code",
   "execution_count": 53,
   "id": "58c690a4-b4f8-4715-9868-c5d1cc6d0a4f",
   "metadata": {},
   "outputs": [],
   "source": [
    "t = sp.symbols('t')\n",
    "#cls da la clase de símbolo que es para hacerla función\n",
    "x, y = sp.symbols( 'x y', cls = Function )"
   ]
  },
  {
   "cell_type": "markdown",
   "id": "843bca6a-a3e8-451f-971f-2b351905ce39",
   "metadata": {},
   "source": [
    "#### Se definen las ecuaciones"
   ]
  },
  {
   "cell_type": "code",
   "execution_count": 60,
   "id": "aa80f9b9-ca4e-4c04-9557-0fdd2dfc1ccc",
   "metadata": {},
   "outputs": [
    {
     "data": {
      "text/latex": [
       "$\\displaystyle \\frac{d}{d t} x{\\left(t \\right)} = 3 x{\\left(t \\right)} - 18 y{\\left(t \\right)}$"
      ],
      "text/plain": [
       "Eq(Derivative(x(t), t), 3*x(t) - 18*y(t))"
      ]
     },
     "execution_count": 60,
     "metadata": {},
     "output_type": "execute_result"
    }
   ],
   "source": [
    "#Arreglo de funciones\n",
    "eqs = [Eq( x(t).diff(t), 3*x(t) -18*y(t) ), Eq( y(t).diff(t), 2*x(t) +9*y(t) )]\n",
    "eqs[0] "
   ]
  },
  {
   "cell_type": "code",
   "execution_count": 59,
   "id": "e0b24800-7051-48d8-b47e-6dacfe433202",
   "metadata": {},
   "outputs": [
    {
     "data": {
      "text/latex": [
       "$\\displaystyle \\frac{d}{d t} y{\\left(t \\right)} = 2 x{\\left(t \\right)} + 9 y{\\left(t \\right)}$"
      ],
      "text/plain": [
       "Eq(Derivative(y(t), t), 2*x(t) + 9*y(t))"
      ]
     },
     "execution_count": 59,
     "metadata": {},
     "output_type": "execute_result"
    }
   ],
   "source": [
    "eqs[1]"
   ]
  },
  {
   "cell_type": "markdown",
   "id": "7e925312-5bff-4dd1-a3d8-6a8226164cf2",
   "metadata": {},
   "source": [
    "#### Se resuelve el sistema"
   ]
  },
  {
   "cell_type": "code",
   "execution_count": 62,
   "id": "f02b24e2-793d-49fb-afc2-d8cb4db71d29",
   "metadata": {},
   "outputs": [
    {
     "data": {
      "text/latex": [
       "$\\displaystyle x{\\left(t \\right)} = - \\left(\\frac{3 C_{1}}{2} + \\frac{3 \\sqrt{3} C_{2}}{2}\\right) e^{6 t} \\cos{\\left(3 \\sqrt{3} t \\right)} - \\left(\\frac{3 \\sqrt{3} C_{1}}{2} - \\frac{3 C_{2}}{2}\\right) e^{6 t} \\sin{\\left(3 \\sqrt{3} t \\right)}$"
      ],
      "text/plain": [
       "Eq(x(t), -(3*C1/2 + 3*sqrt(3)*C2/2)*exp(6*t)*cos(3*sqrt(3)*t) - (3*sqrt(3)*C1/2 - 3*C2/2)*exp(6*t)*sin(3*sqrt(3)*t))"
      ]
     },
     "execution_count": 62,
     "metadata": {},
     "output_type": "execute_result"
    }
   ],
   "source": [
    "sol8 = dsolve(eqs, [x(t), y(t)])\n",
    "sol8[0]"
   ]
  },
  {
   "cell_type": "code",
   "execution_count": 63,
   "id": "5ce8300a-b908-453b-9373-3bcdaa0425d4",
   "metadata": {},
   "outputs": [
    {
     "data": {
      "text/latex": [
       "$\\displaystyle y{\\left(t \\right)} = C_{1} e^{6 t} \\cos{\\left(3 \\sqrt{3} t \\right)} - C_{2} e^{6 t} \\sin{\\left(3 \\sqrt{3} t \\right)}$"
      ],
      "text/plain": [
       "Eq(y(t), C1*exp(6*t)*cos(3*sqrt(3)*t) - C2*exp(6*t)*sin(3*sqrt(3)*t))"
      ]
     },
     "execution_count": 63,
     "metadata": {},
     "output_type": "execute_result"
    }
   ],
   "source": [
    "sol8[1]"
   ]
  },
  {
   "cell_type": "markdown",
   "id": "45073f6e-0ff7-402e-ba9b-0333f4193864",
   "metadata": {},
   "source": [
    "#### Se aplican las condiciones iniciales"
   ]
  },
  {
   "cell_type": "code",
   "execution_count": 65,
   "id": "6ed24f9a-cdd7-48c2-bb30-6fa4e03213cd",
   "metadata": {},
   "outputs": [],
   "source": [
    "C1, C2 = sp.symbols('C1, C2')"
   ]
  },
  {
   "cell_type": "code",
   "execution_count": 70,
   "id": "a54ec46b-8270-4a18-8006-a7f3c5c42cf9",
   "metadata": {},
   "outputs": [
    {
     "data": {
      "text/plain": [
       "{C1: 1, C2: -sqrt(3)/3}"
      ]
     },
     "execution_count": 70,
     "metadata": {},
     "output_type": "execute_result"
    }
   ],
   "source": [
    "constants = solve( (sol8[0].subs(t, 0).subs(x(0), 0), sol8[1].subs(t, 0).subs(y(0), 1)), {C1, C2} )\n",
    "constants"
   ]
  },
  {
   "cell_type": "code",
   "execution_count": 74,
   "id": "1ea754c3-289f-4301-8d97-de7c4f0649eb",
   "metadata": {},
   "outputs": [
    {
     "data": {
      "text/latex": [
       "$\\displaystyle - 2 \\sqrt{3} e^{6 t} \\sin{\\left(3 \\sqrt{3} t \\right)}$"
      ],
      "text/plain": [
       "-2*sqrt(3)*exp(6*t)*sin(3*sqrt(3)*t)"
      ]
     },
     "execution_count": 74,
     "metadata": {},
     "output_type": "execute_result"
    }
   ],
   "source": [
    "#expand() pone la función como suma de monomios\n",
    "xsoln = expand( sol8[0].rhs.subs(constants) )\n",
    "ysoln = expand( sol8[1].rhs.subs(constants) )\n",
    "xsoln"
   ]
  },
  {
   "cell_type": "code",
   "execution_count": 75,
   "id": "ccaa61e1-2fb3-466c-b252-e348da2bc0fc",
   "metadata": {},
   "outputs": [
    {
     "data": {
      "text/latex": [
       "$\\displaystyle \\frac{\\sqrt{3} e^{6 t} \\sin{\\left(3 \\sqrt{3} t \\right)}}{3} + e^{6 t} \\cos{\\left(3 \\sqrt{3} t \\right)}$"
      ],
      "text/plain": [
       "sqrt(3)*exp(6*t)*sin(3*sqrt(3)*t)/3 + exp(6*t)*cos(3*sqrt(3)*t)"
      ]
     },
     "execution_count": 75,
     "metadata": {},
     "output_type": "execute_result"
    }
   ],
   "source": [
    "ysoln"
   ]
  },
  {
   "cell_type": "markdown",
   "id": "f5caa468-7345-4934-97c6-80f087e4a23f",
   "metadata": {},
   "source": [
    "#### Se grafica"
   ]
  },
  {
   "cell_type": "code",
   "execution_count": 78,
   "id": "9ea56d29-5229-4164-b943-36a31f1d636c",
   "metadata": {},
   "outputs": [],
   "source": [
    "tt = np.arange(0, 4, 0.01)\n",
    "funcxt = sp.lambdify(t, xsoln, 'numpy')\n",
    "funcyt = sp.lambdify(t, ysoln, 'numpy')"
   ]
  },
  {
   "cell_type": "code",
   "execution_count": 79,
   "id": "5093b7e6-c4f7-4a49-b042-77b2cd6aeca5",
   "metadata": {},
   "outputs": [],
   "source": [
    "xt = funcxt(tt)\n",
    "yt = funcyt(tt)"
   ]
  },
  {
   "cell_type": "code",
   "execution_count": 91,
   "id": "e6b9711b-090e-4020-8878-b4b4cdd5d049",
   "metadata": {},
   "outputs": [
    {
     "data": {
      "image/png": "[encoded data removed]",
      "text/plain": [
       "<Figure size 640x480 with 2 Axes>"
      ]
     },
     "metadata": {},
     "output_type": "display_data"
    }
   ],
   "source": [
    "#Crear dos sub gráficas, ax1 y ax2\n",
    "fig, (ax1, ax2) = plt.subplots(2)\n",
    "#Título de la gráfica\n",
    "fig.suptitle('Dos gráficas')\n",
    "#Gráficas evaluadas en el ax1\n",
    "ax1.plot(tt, xt, tt, yt)\n",
    "ax1.set(xlabel='Tiempo t')\n",
    "ax1.legend(['x(t)', 'y(t)'])\n",
    "#Gráficas evaluadas en el ax2\n",
    "ax2.plot(xt, yt)\n",
    "ax2.set(xlabel='x', ylabel='y')\n",
    "plt.show()"
   ]
  },
  {
   "cell_type": "markdown",
   "id": "75f51481-9b7b-4f5d-89a7-cf995fa7cdec",
   "metadata": {},
   "source": [
    "---"
   ]
  },
  {
   "cell_type": "markdown",
   "id": "7c2750b3-2173-46cf-a540-6ac1c69be959",
   "metadata": {},
   "source": [
    "# 9. Ecuación de Airy"
   ]
  },
  {
   "cell_type": "markdown",
   "id": "be348043-6a6a-4b1b-b059-523f3f6ad9bf",
   "metadata": {},
   "source": [
    "#### Se definen las variables"
   ]
  },
  {
   "cell_type": "code",
   "execution_count": 92,
   "id": "f5449e0a-ac7f-4faf-80ea-4ae04cca9aeb",
   "metadata": {},
   "outputs": [],
   "source": [
    "t = sp.symbols('t')\n",
    "y = sp.Function('y')"
   ]
  },
  {
   "cell_type": "markdown",
   "id": "70c1d996-e28c-4e30-b2d4-536300b45175",
   "metadata": {},
   "source": [
    "#### Se define la ecuación"
   ]
  },
  {
   "cell_type": "code",
   "execution_count": 93,
   "id": "e60a6279-4093-4745-8763-bb8397b2a0c5",
   "metadata": {},
   "outputs": [
    {
     "data": {
      "text/latex": [
       "$\\displaystyle - t y{\\left(t \\right)} + \\frac{d^{2}}{d t^{2}} y{\\left(t \\right)} = 0$"
      ],
      "text/plain": [
       "Eq(-t*y(t) + Derivative(y(t), (t, 2)), 0)"
      ]
     },
     "execution_count": 93,
     "metadata": {},
     "output_type": "execute_result"
    }
   ],
   "source": [
    "ode9 = sp.Eq( sp.Derivative(y(t), t, t) -t*y(t), 0 )\n",
    "ode9"
   ]
  },
  {
   "cell_type": "markdown",
   "id": "5458d35a-61f8-47a0-afba-f969bb1edf48",
   "metadata": {},
   "source": [
    "#### Se resuelve la ecuación"
   ]
  },
  {
   "cell_type": "code",
   "execution_count": 94,
   "id": "c030c329-b591-468c-b02e-d5fbfa7c6b62",
   "metadata": {},
   "outputs": [
    {
     "data": {
      "text/latex": [
       "$\\displaystyle y{\\left(t \\right)} = C_{1} Ai\\left(t\\right) + C_{2} Bi\\left(t\\right)$"
      ],
      "text/plain": [
       "Eq(y(t), C1*airyai(t) + C2*airybi(t))"
      ]
     },
     "execution_count": 94,
     "metadata": {},
     "output_type": "execute_result"
    }
   ],
   "source": [
    "sol9 = dsolve(ode9, y(t))\n",
    "sol9"
   ]
  },
  {
   "cell_type": "markdown",
   "id": "567f987d-361b-47db-b291-e601a1362da0",
   "metadata": {},
   "source": [
    "#### Se encuentra una solución en series de potencias centrada en cero"
   ]
  },
  {
   "cell_type": "code",
   "execution_count": 96,
   "id": "127fa332-f292-4412-a52a-251c2912dcae",
   "metadata": {},
   "outputs": [
    {
     "data": {
      "text/latex": [
       "$\\displaystyle y{\\left(t \\right)} = C_{2} \\left(\\frac{t^{3}}{6} + 1\\right) + C_{1} t \\left(\\frac{t^{3}}{12} + 1\\right) + O\\left(t^{6}\\right)$"
      ],
      "text/plain": [
       "Eq(y(t), C2*(t**3/6 + 1) + C1*t*(t**3/12 + 1) + O(t**6))"
      ]
     },
     "execution_count": 96,
     "metadata": {},
     "output_type": "execute_result"
    }
   ],
   "source": [
    "#hint es el tipo de ecuación con el que se quiere resolver\n",
    "sols9 = sp.dsolve(ode9, hint = '2nd_power_series_ordinary')\n",
    "sols9"
   ]
  },
  {
   "cell_type": "code",
   "execution_count": 97,
   "id": "da7842ef-b52f-4e17-bcaa-3014d50a2c72",
   "metadata": {},
   "outputs": [
    {
     "data": {
      "text/plain": [
       "{C1: 1, C2: 1}"
      ]
     },
     "execution_count": 97,
     "metadata": {},
     "output_type": "execute_result"
    }
   ],
   "source": [
    "constants = solve([sols9.rhs.subs(t, 0) -1, sols9.rhs.diff(t, 1).subs(t, 0) -1])\n",
    "constants"
   ]
  },
  {
   "cell_type": "code",
   "execution_count": 98,
   "id": "7b2910db-9e69-4cf6-ab78-252c921822eb",
   "metadata": {},
   "outputs": [
    {
     "data": {
      "text/latex": [
       "$\\displaystyle 1 + t + \\frac{t^{3}}{6} + \\frac{t^{4}}{12} + O\\left(t^{6}\\right)$"
      ],
      "text/plain": [
       "1 + t + t**3/6 + t**4/12 + O(t**6)"
      ]
     },
     "execution_count": 98,
     "metadata": {},
     "output_type": "execute_result"
    }
   ],
   "source": [
    "ysol = expand(sols9.rhs.subs(constants))\n",
    "ysol"
   ]
  },
  {
   "cell_type": "markdown",
   "id": "8e09ecd6-9093-4fb9-a367-6ace571e3d6d",
   "metadata": {},
   "source": [
    "#### Se encuentra una solución en series de potencias centrada en \\$t=1$"
   ]
  },
  {
   "cell_type": "code",
   "execution_count": 100,
   "id": "ba83a3ae-037d-4769-8cfb-d37c2807ee1b",
   "metadata": {},
   "outputs": [
    {
     "data": {
      "text/latex": [
       "$\\displaystyle \\left(t - 1\\right) \\left(C_{1} Ai^\\prime\\left(1\\right) + C_{2} Bi^\\prime\\left(1\\right)\\right) + \\frac{\\left(t - 1\\right)^{2} \\left(C_{1} Ai\\left(1\\right) + C_{2} Bi\\left(1\\right)\\right)}{2} + \\frac{\\left(t - 1\\right)^{3} \\left(C_{1} Ai^\\prime\\left(1\\right) + C_{1} Ai\\left(1\\right) + C_{2} Bi^\\prime\\left(1\\right) + C_{2} Bi\\left(1\\right)\\right)}{6} + \\frac{\\left(t - 1\\right)^{4} \\cdot \\left(2 C_{1} Ai^\\prime\\left(1\\right) + C_{1} Ai\\left(1\\right) + C_{2} Bi\\left(1\\right) + 2 C_{2} Bi^\\prime\\left(1\\right)\\right)}{24} + \\frac{\\left(t - 1\\right)^{5} \\left(C_{1} Ai^\\prime\\left(1\\right) + 4 C_{1} Ai\\left(1\\right) + C_{2} Bi^\\prime\\left(1\\right) + 4 C_{2} Bi\\left(1\\right)\\right)}{120} + C_{2} Bi\\left(1\\right) + C_{1} Ai\\left(1\\right) + O\\left(\\left(t - 1\\right)^{6}; t\\rightarrow 1\\right)$"
      ],
      "text/plain": [
       "(t - 1)*(C1*airyaiprime(1) + C2*airybiprime(1)) + (t - 1)**2*(C1*airyai(1) + C2*airybi(1))/2 + (t - 1)**3*(C1*airyaiprime(1) + C1*airyai(1) + C2*airybiprime(1) + C2*airybi(1))/6 + (t - 1)**4*(2*C1*airyaiprime(1) + C1*airyai(1) + C2*airybi(1) + 2*C2*airybiprime(1))/24 + (t - 1)**5*(C1*airyaiprime(1) + 4*C1*airyai(1) + C2*airybiprime(1) + 4*C2*airybi(1))/120 + C2*airybi(1) + C1*airyai(1) + O((t - 1)**6, (t, 1))"
      ]
     },
     "execution_count": 100,
     "metadata": {},
     "output_type": "execute_result"
    }
   ],
   "source": [
    "#Serie de potencias, variable y el centro\n",
    "s9 = simplify( series(sol9.rhs, t, 1) )\n",
    "s9"
   ]
  },
  {
   "cell_type": "code",
   "execution_count": 104,
   "id": "4b2746e3-78ec-4023-806b-3c5075bb749c",
   "metadata": {},
   "outputs": [
    {
     "data": {
      "text/plain": [
       "{C1: (-airybi(1) + airybiprime(1))/(airyai(1)*airybiprime(1) - airyaiprime(1)*airybi(1)),\n",
       " C2: (airyai(1) - airyaiprime(1))/(airyai(1)*airybiprime(1) - airyaiprime(1)*airybi(1))}"
      ]
     },
     "execution_count": 104,
     "metadata": {},
     "output_type": "execute_result"
    }
   ],
   "source": [
    "constants = solve([s9.subs(t, 1) -1, s9.diff(t, 1).subs(t, 1) -1])\n",
    "constants"
   ]
  },
  {
   "cell_type": "code",
   "execution_count": 106,
   "id": "dd476f91-9c47-4df1-bc64-92d358926cbf",
   "metadata": {},
   "outputs": [
    {
     "data": {
      "text/latex": [
       "$\\displaystyle \\frac{\\left(Ai\\left(1\\right) - Ai^\\prime\\left(1\\right)\\right) Bi\\left(1\\right)}{Ai\\left(1\\right) Bi^\\prime\\left(1\\right) - Ai^\\prime\\left(1\\right) Bi\\left(1\\right)} + \\frac{\\left(- Bi\\left(1\\right) + Bi^\\prime\\left(1\\right)\\right) Ai\\left(1\\right)}{Ai\\left(1\\right) Bi^\\prime\\left(1\\right) - Ai^\\prime\\left(1\\right) Bi\\left(1\\right)} + \\left(t - 1\\right) \\left(\\frac{\\left(- Bi\\left(1\\right) + Bi^\\prime\\left(1\\right)\\right) Ai^\\prime\\left(1\\right)}{Ai\\left(1\\right) Bi^\\prime\\left(1\\right) - Ai^\\prime\\left(1\\right) Bi\\left(1\\right)} + \\frac{\\left(Ai\\left(1\\right) - Ai^\\prime\\left(1\\right)\\right) Bi^\\prime\\left(1\\right)}{Ai\\left(1\\right) Bi^\\prime\\left(1\\right) - Ai^\\prime\\left(1\\right) Bi\\left(1\\right)}\\right) + \\frac{\\left(t - 1\\right)^{2} \\left(\\frac{\\left(- Bi\\left(1\\right) + Bi^\\prime\\left(1\\right)\\right) Ai\\left(1\\right)}{Ai\\left(1\\right) Bi^\\prime\\left(1\\right) - Ai^\\prime\\left(1\\right) Bi\\left(1\\right)} + \\frac{\\left(Ai\\left(1\\right) - Ai^\\prime\\left(1\\right)\\right) Bi\\left(1\\right)}{Ai\\left(1\\right) Bi^\\prime\\left(1\\right) - Ai^\\prime\\left(1\\right) Bi\\left(1\\right)}\\right)}{2} + \\frac{\\left(t - 1\\right)^{3} \\left(\\frac{\\left(- Bi\\left(1\\right) + Bi^\\prime\\left(1\\right)\\right) Ai\\left(1\\right)}{Ai\\left(1\\right) Bi^\\prime\\left(1\\right) - Ai^\\prime\\left(1\\right) Bi\\left(1\\right)} + \\frac{\\left(- Bi\\left(1\\right) + Bi^\\prime\\left(1\\right)\\right) Ai^\\prime\\left(1\\right)}{Ai\\left(1\\right) Bi^\\prime\\left(1\\right) - Ai^\\prime\\left(1\\right) Bi\\left(1\\right)} + \\frac{\\left(Ai\\left(1\\right) - Ai^\\prime\\left(1\\right)\\right) Bi^\\prime\\left(1\\right)}{Ai\\left(1\\right) Bi^\\prime\\left(1\\right) - Ai^\\prime\\left(1\\right) Bi\\left(1\\right)} + \\frac{\\left(Ai\\left(1\\right) - Ai^\\prime\\left(1\\right)\\right) Bi\\left(1\\right)}{Ai\\left(1\\right) Bi^\\prime\\left(1\\right) - Ai^\\prime\\left(1\\right) Bi\\left(1\\right)}\\right)}{6} + \\frac{\\left(t - 1\\right)^{4} \\left(\\frac{\\left(- Bi\\left(1\\right) + Bi^\\prime\\left(1\\right)\\right) Ai\\left(1\\right)}{Ai\\left(1\\right) Bi^\\prime\\left(1\\right) - Ai^\\prime\\left(1\\right) Bi\\left(1\\right)} + \\frac{2 \\left(- Bi\\left(1\\right) + Bi^\\prime\\left(1\\right)\\right) Ai^\\prime\\left(1\\right)}{Ai\\left(1\\right) Bi^\\prime\\left(1\\right) - Ai^\\prime\\left(1\\right) Bi\\left(1\\right)} + \\frac{\\left(Ai\\left(1\\right) - Ai^\\prime\\left(1\\right)\\right) Bi\\left(1\\right)}{Ai\\left(1\\right) Bi^\\prime\\left(1\\right) - Ai^\\prime\\left(1\\right) Bi\\left(1\\right)} + \\frac{2 \\left(Ai\\left(1\\right) - Ai^\\prime\\left(1\\right)\\right) Bi^\\prime\\left(1\\right)}{Ai\\left(1\\right) Bi^\\prime\\left(1\\right) - Ai^\\prime\\left(1\\right) Bi\\left(1\\right)}\\right)}{24} + \\frac{\\left(t - 1\\right)^{5} \\cdot \\left(\\frac{4 \\left(- Bi\\left(1\\right) + Bi^\\prime\\left(1\\right)\\right) Ai\\left(1\\right)}{Ai\\left(1\\right) Bi^\\prime\\left(1\\right) - Ai^\\prime\\left(1\\right) Bi\\left(1\\right)} + \\frac{\\left(- Bi\\left(1\\right) + Bi^\\prime\\left(1\\right)\\right) Ai^\\prime\\left(1\\right)}{Ai\\left(1\\right) Bi^\\prime\\left(1\\right) - Ai^\\prime\\left(1\\right) Bi\\left(1\\right)} + \\frac{\\left(Ai\\left(1\\right) - Ai^\\prime\\left(1\\right)\\right) Bi^\\prime\\left(1\\right)}{Ai\\left(1\\right) Bi^\\prime\\left(1\\right) - Ai^\\prime\\left(1\\right) Bi\\left(1\\right)} + \\frac{4 \\left(Ai\\left(1\\right) - Ai^\\prime\\left(1\\right)\\right) Bi\\left(1\\right)}{Ai\\left(1\\right) Bi^\\prime\\left(1\\right) - Ai^\\prime\\left(1\\right) Bi\\left(1\\right)}\\right)}{120} + O\\left(\\left(t - 1\\right)^{6}; t\\rightarrow 1\\right)$"
      ],
      "text/plain": [
       "(airyai(1) - airyaiprime(1))*airybi(1)/(airyai(1)*airybiprime(1) - airyaiprime(1)*airybi(1)) + (-airybi(1) + airybiprime(1))*airyai(1)/(airyai(1)*airybiprime(1) - airyaiprime(1)*airybi(1)) + (t - 1)*((-airybi(1) + airybiprime(1))*airyaiprime(1)/(airyai(1)*airybiprime(1) - airyaiprime(1)*airybi(1)) + (airyai(1) - airyaiprime(1))*airybiprime(1)/(airyai(1)*airybiprime(1) - airyaiprime(1)*airybi(1))) + (t - 1)**2*((-airybi(1) + airybiprime(1))*airyai(1)/(airyai(1)*airybiprime(1) - airyaiprime(1)*airybi(1)) + (airyai(1) - airyaiprime(1))*airybi(1)/(airyai(1)*airybiprime(1) - airyaiprime(1)*airybi(1)))/2 + (t - 1)**3*((-airybi(1) + airybiprime(1))*airyai(1)/(airyai(1)*airybiprime(1) - airyaiprime(1)*airybi(1)) + (-airybi(1) + airybiprime(1))*airyaiprime(1)/(airyai(1)*airybiprime(1) - airyaiprime(1)*airybi(1)) + (airyai(1) - airyaiprime(1))*airybiprime(1)/(airyai(1)*airybiprime(1) - airyaiprime(1)*airybi(1)) + (airyai(1) - airyaiprime(1))*airybi(1)/(airyai(1)*airybiprime(1) - airyaiprime(1)*airybi(1)))/6 + (t - 1)**4*((-airybi(1) + airybiprime(1))*airyai(1)/(airyai(1)*airybiprime(1) - airyaiprime(1)*airybi(1)) + 2*(-airybi(1) + airybiprime(1))*airyaiprime(1)/(airyai(1)*airybiprime(1) - airyaiprime(1)*airybi(1)) + (airyai(1) - airyaiprime(1))*airybi(1)/(airyai(1)*airybiprime(1) - airyaiprime(1)*airybi(1)) + 2*(airyai(1) - airyaiprime(1))*airybiprime(1)/(airyai(1)*airybiprime(1) - airyaiprime(1)*airybi(1)))/24 + (t - 1)**5*(4*(-airybi(1) + airybiprime(1))*airyai(1)/(airyai(1)*airybiprime(1) - airyaiprime(1)*airybi(1)) + (-airybi(1) + airybiprime(1))*airyaiprime(1)/(airyai(1)*airybiprime(1) - airyaiprime(1)*airybi(1)) + (airyai(1) - airyaiprime(1))*airybiprime(1)/(airyai(1)*airybiprime(1) - airyaiprime(1)*airybi(1)) + 4*(airyai(1) - airyaiprime(1))*airybi(1)/(airyai(1)*airybiprime(1) - airyaiprime(1)*airybi(1)))/120 + O((t - 1)**6, (t, 1))"
      ]
     },
     "execution_count": 106,
     "metadata": {},
     "output_type": "execute_result"
    }
   ],
   "source": [
    "ss9 = s9.subs(constants)\n",
    "simplify( series(ss9, t, 1, 6) )\n",
    "ss9"
   ]
  },
  {
   "cell_type": "markdown",
   "id": "fb736651-da40-4574-8198-1a743fea4ce3",
   "metadata": {},
   "source": [
    "---"
   ]
  },
  {
   "cell_type": "markdown",
   "id": "89c71c20-1154-49b8-aa32-deaad9737392",
   "metadata": {},
   "source": [
    "# 10. Campo de direcciones de una ecuación diferencial"
   ]
  },
  {
   "cell_type": "markdown",
   "id": "92443893-2c8a-4158-9863-232526f3c541",
   "metadata": {},
   "source": [
    "#### Se definen las variables"
   ]
  },
  {
   "cell_type": "code",
   "execution_count": 107,
   "id": "4bb080c9-7183-4a92-a874-11e03d5b79b5",
   "metadata": {},
   "outputs": [],
   "source": [
    "#lista de matrices de coordenadas de vectores\n",
    "x, y = np.meshgrid( np.linspace(-2, 3, 15), np.linspace(.2, 3, 15) )"
   ]
  },
  {
   "cell_type": "code",
   "execution_count": 111,
   "id": "621e0ee1-c93d-4b92-bfaf-2292d80b9ebd",
   "metadata": {},
   "outputs": [
    {
     "data": {
      "image/png": "[encoded data removed]",
      "text/plain": [
       "<Figure size 640x480 with 1 Axes>"
      ]
     },
     "metadata": {},
     "output_type": "display_data"
    }
   ],
   "source": [
    "#Gráfica que muestra líneas de vectores como flechas\n",
    "plt.quiver(x, y, x, np.exp(-x) -2*y)\n",
    "plt.grid('on')\n",
    "plt.xlabel('x')\n",
    "plt.ylabel('y')\n",
    "plt.show()"
   ]
  },
  {
   "cell_type": "markdown",
   "id": "719ad7b0-281b-4017-b10f-6fac45f5ab4d",
   "metadata": {},
   "source": [
    "---"
   ]
  },
  {
   "cell_type": "markdown",
   "id": "93ce75e9-d5ad-4ac7-afbd-b73ba9555d54",
   "metadata": {},
   "source": [
    "# 11. Un sistema no lineal (depredador-presa)"
   ]
  },
  {
   "cell_type": "markdown",
   "id": "739cd289-7445-4d93-acb1-15269a280b9c",
   "metadata": {},
   "source": [
    "#### Se encuentran los puntos críticos"
   ]
  },
  {
   "cell_type": "code",
   "execution_count": 117,
   "id": "50c308f4-99d3-427d-96cc-39120c3e1a8b",
   "metadata": {},
   "outputs": [
    {
     "data": {
      "text/plain": [
       "{x: 0.0, y: 0.0}"
      ]
     },
     "execution_count": 117,
     "metadata": {},
     "output_type": "execute_result"
    }
   ],
   "source": [
    "x, y = sp.symbols('x y')\n",
    "pts = sp.solve( [x*(1-x-y), y*(0.75 -0.5*x -y)], {x, y} )\n",
    "pts[0]"
   ]
  },
  {
   "cell_type": "code",
   "execution_count": 118,
   "id": "c14d160f-7ded-49a7-b697-65c84cdfb447",
   "metadata": {},
   "outputs": [
    {
     "data": {
      "text/plain": [
       "{x: 0.0, y: 0.750000000000000}"
      ]
     },
     "execution_count": 118,
     "metadata": {},
     "output_type": "execute_result"
    }
   ],
   "source": [
    "pts[1]"
   ]
  },
  {
   "cell_type": "code",
   "execution_count": 119,
   "id": "2c13c44a-42ad-43e6-8b95-921f00c7c0d6",
   "metadata": {},
   "outputs": [
    {
     "data": {
      "text/plain": [
       "{x: 0.500000000000000, y: 0.500000000000000}"
      ]
     },
     "execution_count": 119,
     "metadata": {},
     "output_type": "execute_result"
    }
   ],
   "source": [
    "pts[2]"
   ]
  },
  {
   "cell_type": "code",
   "execution_count": 120,
   "id": "af46135c-adb6-4304-87f2-a0e4120cc925",
   "metadata": {},
   "outputs": [
    {
     "data": {
      "text/plain": [
       "{x: 1.00000000000000, y: 0.0}"
      ]
     },
     "execution_count": 120,
     "metadata": {},
     "output_type": "execute_result"
    }
   ],
   "source": [
    "pts[3]"
   ]
  },
  {
   "cell_type": "markdown",
   "id": "63bfb023-3724-4114-a8d5-940dbbe3d4b8",
   "metadata": {},
   "source": [
    "#### Se calcula la matriz jacobiana del sistema"
   ]
  },
  {
   "cell_type": "code",
   "execution_count": 122,
   "id": "aae8b71b-49c9-4f24-8df5-47956f928722",
   "metadata": {},
   "outputs": [
    {
     "data": {
      "text/latex": [
       "$\\displaystyle \\left[\\begin{matrix}- 2 x - y + 1 & - x\\\\- 0.5 y & - 0.5 x - 2 y + 0.75\\end{matrix}\\right]$"
      ],
      "text/plain": [
       "Matrix([\n",
       "[-2*x - y + 1,                  -x],\n",
       "[      -0.5*y, -0.5*x - 2*y + 0.75]])"
      ]
     },
     "execution_count": 122,
     "metadata": {},
     "output_type": "execute_result"
    }
   ],
   "source": [
    "X = sp.Matrix([x*(1-x-y), y*(0.75 -0.5*x -y)])\n",
    "Y = sp.Matrix([x, y])\n",
    "A = X.jacobian(Y)\n",
    "A"
   ]
  },
  {
   "cell_type": "markdown",
   "id": "acf89f49-0ce2-4d01-a88f-80a6cea46142",
   "metadata": {},
   "source": [
    "#### Se evalua la matriz jacobiana en los puntos críticos y se calculan los valores propios para clasificar los puntos críticos"
   ]
  },
  {
   "cell_type": "code",
   "execution_count": 123,
   "id": "92d9132c-b374-4e5f-b323-5ee482ce4ade",
   "metadata": {},
   "outputs": [
    {
     "data": {
      "text/plain": [
       "[(1.00000000000000,\n",
       "  1,\n",
       "  [Matrix([\n",
       "   [1.0],\n",
       "   [  0]])]),\n",
       " (0.750000000000000,\n",
       "  1,\n",
       "  [Matrix([\n",
       "   [  0],\n",
       "   [1.0]])])]"
      ]
     },
     "execution_count": 123,
     "metadata": {},
     "output_type": "execute_result"
    }
   ],
   "source": [
    "A.subs(pts[0]).eigenvects()"
   ]
  },
  {
   "cell_type": "code",
   "execution_count": 124,
   "id": "4b4ee853-763a-4575-9021-cb0e4f1430b3",
   "metadata": {},
   "outputs": [
    {
     "data": {
      "text/plain": [
       "[(0.250000000000000,\n",
       "  1,\n",
       "  [Matrix([\n",
       "   [ 0.936329177569045],\n",
       "   [-0.351123441588392]])]),\n",
       " (-0.750000000000000,\n",
       "  1,\n",
       "  [Matrix([\n",
       "   [-3.31455461204681e-65],\n",
       "   [     1.06800046816469]])])]"
      ]
     },
     "execution_count": 124,
     "metadata": {},
     "output_type": "execute_result"
    }
   ],
   "source": [
    "A.subs(pts[1]).eigenvects()"
   ]
  },
  {
   "cell_type": "code",
   "execution_count": 125,
   "id": "353c4762-6252-4857-8c3b-d9a778f5b132",
   "metadata": {},
   "outputs": [
    {
     "data": {
      "text/plain": [
       "[(-0.853553390593274,\n",
       "  1,\n",
       "  [Matrix([\n",
       "   [0.816496580927726],\n",
       "   [0.577350269189626]])]),\n",
       " (-0.146446609406726,\n",
       "  1,\n",
       "  [Matrix([\n",
       "   [-0.866025403784439],\n",
       "   [ 0.612372435695794]])])]"
      ]
     },
     "execution_count": 125,
     "metadata": {},
     "output_type": "execute_result"
    }
   ],
   "source": [
    "A.subs(pts[2]).eigenvects()"
   ]
  },
  {
   "cell_type": "code",
   "execution_count": 126,
   "id": "fca3e20b-eff7-42a4-83de-8fa8ce22c155",
   "metadata": {},
   "outputs": [
    {
     "data": {
      "text/plain": [
       "[(-1.00000000000000,\n",
       "  1,\n",
       "  [Matrix([\n",
       "   [1.0],\n",
       "   [  0]])]),\n",
       " (0.250000000000000,\n",
       "  1,\n",
       "  [Matrix([\n",
       "   [-0.8],\n",
       "   [ 1.0]])])]"
      ]
     },
     "execution_count": 126,
     "metadata": {},
     "output_type": "execute_result"
    }
   ],
   "source": [
    "A.subs(pts[3]).eigenvects()"
   ]
  },
  {
   "cell_type": "code",
   "execution_count": 127,
   "id": "038ec4e1-15e4-4f72-80ca-f1e57b417233",
   "metadata": {},
   "outputs": [],
   "source": [
    "#### Se prepara el gráfico"
   ]
  },
  {
   "cell_type": "code",
   "execution_count": 128,
   "id": "16921b3c-d23f-491f-ad5d-eede366917a2",
   "metadata": {},
   "outputs": [
    {
     "ename": "TypeError",
     "evalue": "Cannot interpret '0.001' as a data type",
     "output_type": "error",
     "traceback": [
      "\u001b[1;31m---------------------------------------------------------------------------\u001b[0m",
      "\u001b[1;31mTypeError\u001b[0m                                 Traceback (most recent call last)",
      "Cell \u001b[1;32mIn[128], line 6\u001b[0m\n\u001b[0;32m      4\u001b[0m title(\u001b[38;5;124m'\u001b[39m\u001b[38;5;124mPlano Fase para un sistema no lineal\u001b[39m\u001b[38;5;124m'\u001b[39m)\n\u001b[0;32m      5\u001b[0m plot(nodos[\u001b[38;5;241m0\u001b[39m], nodos[\u001b[38;5;241m1\u001b[39m], \u001b[38;5;124m'\u001b[39m\u001b[38;5;124mro\u001b[39m\u001b[38;5;124m'\u001b[39m)\n\u001b[1;32m----> 6\u001b[0m xvalues, yvalues \u001b[38;5;241m=\u001b[39m meshgrid( arange(\u001b[38;5;241m-\u001b[39m\u001b[38;5;241m0.5\u001b[39m, \u001b[38;5;241m1\u001b[39m, \u001b[38;5;241m0.5\u001b[39m, \u001b[38;5;241m0.001\u001b[39m), arange(\u001b[38;5;241m-\u001b[39m\u001b[38;5;241m0.5\u001b[39m, \u001b[38;5;241m1\u001b[39m, \u001b[38;5;241m0.5\u001b[39m, \u001b[38;5;241m0.001\u001b[39m) )\n\u001b[0;32m      7\u001b[0m xdot \u001b[38;5;241m=\u001b[39m xvalues\u001b[38;5;241m*\u001b[39m(\u001b[38;5;241m1\u001b[39m \u001b[38;5;241m-\u001b[39mxvalues \u001b[38;5;241m-\u001b[39myvalues)\n\u001b[0;32m      8\u001b[0m ydot \u001b[38;5;241m=\u001b[39m yvalues\u001b[38;5;241m*\u001b[39m(\u001b[38;5;241m0.75\u001b[39m \u001b[38;5;241m-\u001b[39m\u001b[38;5;241m0.5\u001b[39m\u001b[38;5;241m*\u001b[39mxvalues \u001b[38;5;241m-\u001b[39myvalues)\n",
      "\u001b[1;31mTypeError\u001b[0m: Cannot interpret '0.001' as a data type"
     ]
    },
    {
     "data": {
      "image/png": "[encoded data removed]",
      "text/plain": [
       "<Figure size 640x480 with 1 Axes>"
      ]
     },
     "metadata": {},
     "output_type": "display_data"
    }
   ],
   "source": [
    "nodos = np.array([ [0, 0, 1, 0.5], [0, 0.75, 0, 0.5] ])\n",
    "xlabel('X')\n",
    "ylabel('Y')\n",
    "title('Plano Fase para un sistema no lineal')\n",
    "plot(nodos[0], nodos[1], 'ro')\n",
    "xvalues, yvalues = meshgrid( arange(-0.5, 1, 0.5, 0.001), arange(-0.5, 1, 0.5, 0.001) )\n",
    "xdot = xvalues*(1 -xvalues -yvalues)\n",
    "ydot = yvalues*(0.75 -0.5*xvalues -yvalues)\n",
    "streamplot(xvalues, yvalues, xdot, ydot)\n",
    "grid()\n",
    "show()"
   ]
  },
  {
   "cell_type": "markdown",
   "id": "b147d86a-0dd3-4e88-8156-c7e78f1b233e",
   "metadata": {},
   "source": [
    "---"
   ]
  },
  {
   "cell_type": "markdown",
   "id": "15173967-6fb6-47cf-a676-1cf607cd79ab",
   "metadata": {},
   "source": [
    "# 12. Problema de valor inicial para una ecuación no lineal (solución numérica)"
   ]
  },
  {
   "cell_type": "code",
   "execution_count": 130,
   "id": "44aefe84-62ed-44c2-a718-cf4acab35a3a",
   "metadata": {},
   "outputs": [],
   "source": [
    "def model(y, t):\n",
    "    dydt = sin(y*y)\n",
    "    return dydt"
   ]
  },
  {
   "cell_type": "code",
   "execution_count": 131,
   "id": "03b13d58-1c57-47e3-b4e6-0fac0cd6ec9f",
   "metadata": {},
   "outputs": [],
   "source": [
    "y0 = 1"
   ]
  },
  {
   "cell_type": "code",
   "execution_count": 132,
   "id": "bc616872-1d2b-43a4-9764-8aa07c8ac1ce",
   "metadata": {},
   "outputs": [],
   "source": [
    "#Partición de 0 a 20\n",
    "t = np.linspace(0, 20)"
   ]
  },
  {
   "cell_type": "markdown",
   "id": "8ef0e2d4-4b17-4ce7-8bf8-f07e9b3351f0",
   "metadata": {},
   "source": [
    "#### Se resuelve numéricamente"
   ]
  },
  {
   "cell_type": "code",
   "execution_count": 134,
   "id": "93e434d2-6fe9-40b4-838e-e37ed49d25e3",
   "metadata": {},
   "outputs": [],
   "source": [
    "y = odeint(model, y0, t)"
   ]
  },
  {
   "cell_type": "code",
   "execution_count": 135,
   "id": "bbb83d36-0870-4b3e-b6c6-c28eabf6fb98",
   "metadata": {},
   "outputs": [
    {
     "data": {
      "image/png": "[encoded data removed]",
      "text/plain": [
       "<Figure size 640x480 with 1 Axes>"
      ]
     },
     "metadata": {},
     "output_type": "display_data"
    }
   ],
   "source": [
    "plt.plot(t, y)\n",
    "plt.xlabel('Tiempo')\n",
    "plt.ylabel('y(t)')\n",
    "plt.show()"
   ]
  },
  {
   "cell_type": "code",
   "execution_count": null,
   "id": "a818a2a0-2e37-421f-bb8c-556baba31fb4",
   "metadata": {},
   "outputs": [],
   "source": []
  }
 ],
 "metadata": {
  "kernelspec": {
   "display_name": "Python 3 (ipykernel)",
   "language": "python",
   "name": "python3"
  },
  "language_info": {
   "codemirror_mode": {
    "name": "ipython",
    "version": 3
   },
   "file_extension": ".py",
   "mimetype": "text/x-python",
   "name": "python",
   "nbconvert_exporter": "python",
   "pygments_lexer": "ipython3",
   "version": "3.12.4"
  }
 },
 "nbformat": 4,
 "nbformat_minor": 5
}
