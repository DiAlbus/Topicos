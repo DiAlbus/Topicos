{
 "cells": [
  {
   "cell_type": "code",
   "execution_count": 21,
   "id": "0279e530-cc3f-4bfc-b65b-2938d92ba7e7",
   "metadata": {},
   "outputs": [],
   "source": [
    "from sympy import *\n",
    "import sympy as sp\n",
    "import numpy as np\n",
    "import scipy\n",
    "import matplotlib as mpl\n",
    "import matplotlib.pyplot as plt"
   ]
  },
  {
   "cell_type": "markdown",
   "id": "7e5f672e-8418-4f14-a8e2-1a89c533cf69",
   "metadata": {},
   "source": [
    "# 1. Ecuación logística"
   ]
  },
  {
   "cell_type": "markdown",
   "id": "84aeaf4a-0d9a-419e-bbce-033e874eb9df",
   "metadata": {},
   "source": [
    "#### Se definen las variables"
   ]
  },
  {
   "cell_type": "code",
   "execution_count": 7,
   "id": "94df8a7c-3fbe-4023-b6eb-c37c86a6b6a6",
   "metadata": {},
   "outputs": [],
   "source": [
    "t = sp.symbols('t')\n",
    "p = sp.Function('p')\n",
    "a = sp.symbols('a')\n",
    "b = sp.symbols('b')\n",
    "p0 = sp.symbols('p0')"
   ]
  },
  {
   "cell_type": "markdown",
   "id": "94a6a142-5773-4d7b-8db5-82cbdc00e3c2",
   "metadata": {},
   "source": [
    "#### Se define la ecuación"
   ]
  },
  {
   "cell_type": "code",
   "execution_count": 9,
   "id": "0c2af93c-1dc0-4855-8537-3af77ebadab1",
   "metadata": {},
   "outputs": [
    {
     "data": {
      "text/latex": [
       "$\\displaystyle - a p{\\left(t \\right)} + b p^{2}{\\left(t \\right)} + \\frac{d}{d t} p{\\left(t \\right)} = 0$"
      ],
      "text/plain": [
       "Eq(-a*p(t) + b*p(t)**2 + Derivative(p(t), t), 0)"
      ]
     },
     "execution_count": 9,
     "metadata": {},
     "output_type": "execute_result"
    }
   ],
   "source": [
    "ode = sp.Eq( sp.Derivative(p(t), t) -a*p(t) +b*p(t)*p(t), 0 )\n",
    "ode"
   ]
  },
  {
   "cell_type": "markdown",
   "id": "14307cfa-8a6e-4307-bbc7-7ccc62227398",
   "metadata": {},
   "source": [
    "#### Se resuelve la ecuación"
   ]
  },
  {
   "cell_type": "code",
   "execution_count": 10,
   "id": "fda51715-f5ce-45cd-a985-e1c9969786c3",
   "metadata": {},
   "outputs": [
    {
     "data": {
      "text/latex": [
       "$\\displaystyle p{\\left(t \\right)} = \\frac{a e^{a \\left(t + \\frac{\\log{\\left(\\frac{b p_{0}}{- a + b p_{0}} \\right)}}{a}\\right)}}{b \\left(e^{a \\left(t + \\frac{\\log{\\left(\\frac{b p_{0}}{- a + b p_{0}} \\right)}}{a}\\right)} - 1\\right)}$"
      ],
      "text/plain": [
       "Eq(p(t), a*exp(a*(t + log(b*p0/(-a + b*p0))/a))/(b*(exp(a*(t + log(b*p0/(-a + b*p0))/a)) - 1)))"
      ]
     },
     "execution_count": 10,
     "metadata": {},
     "output_type": "execute_result"
    }
   ],
   "source": [
    "sol = sp.dsolve( ode, p(t), ics={p(0):p0} )\n",
    "sol"
   ]
  },
  {
   "cell_type": "markdown",
   "id": "b2f4dda8-b243-440e-943a-23cb517e4939",
   "metadata": {},
   "source": [
    "#### Se dan valores a \\$a,\\ b\\ \\text{y}\\ p_0$ y se evaluan las respectivas soluciones"
   ]
  },
  {
   "cell_type": "code",
   "execution_count": 12,
   "id": "fdbe0b68-b531-44a5-9d06-e2056e85d071",
   "metadata": {},
   "outputs": [
    {
     "data": {
      "text/latex": [
       "$\\displaystyle p{\\left(t \\right)} = - \\frac{5.08474576271187 e^{0.03 t}}{- 0.0169491525423729 e^{0.03 t} - 1}$"
      ],
      "text/plain": [
       "Eq(p(t), -5.08474576271187*exp(0.03*t)/(-0.0169491525423729*exp(0.03*t) - 1))"
      ]
     },
     "execution_count": 12,
     "metadata": {},
     "output_type": "execute_result"
    }
   ],
   "source": [
    "constants = {a:0.03, b:0.0001, p0:5}\n",
    "sol1 = sol.subs(constants)\n",
    "sol1"
   ]
  },
  {
   "cell_type": "code",
   "execution_count": 13,
   "id": "60b9b269-5228-4aec-b95e-1bd4dc246f7e",
   "metadata": {},
   "outputs": [
    {
     "data": {
      "text/latex": [
       "$\\displaystyle p{\\left(t \\right)} = - \\frac{6.12244897959184 e^{0.03 t}}{- 0.0204081632653061 e^{0.03 t} - 1}$"
      ],
      "text/plain": [
       "Eq(p(t), -6.12244897959184*exp(0.03*t)/(-0.0204081632653061*exp(0.03*t) - 1))"
      ]
     },
     "execution_count": 13,
     "metadata": {},
     "output_type": "execute_result"
    }
   ],
   "source": [
    "constants = {a:0.03, b:0.0001, p0:6}\n",
    "sol2 = sol.subs(constants)\n",
    "sol2"
   ]
  },
  {
   "cell_type": "code",
   "execution_count": 14,
   "id": "10dcd665-d257-487d-95ce-4c688b4a09bd",
   "metadata": {},
   "outputs": [
    {
     "data": {
      "text/latex": [
       "$\\displaystyle p{\\left(t \\right)} = - \\frac{7.16723549488055 e^{0.03 t}}{- 0.0238907849829352 e^{0.03 t} - 1}$"
      ],
      "text/plain": [
       "Eq(p(t), -7.16723549488055*exp(0.03*t)/(-0.0238907849829352*exp(0.03*t) - 1))"
      ]
     },
     "execution_count": 14,
     "metadata": {},
     "output_type": "execute_result"
    }
   ],
   "source": [
    "constants = {a:0.03, b:0.0001, p0:7}\n",
    "sol3 = sol.subs(constants)\n",
    "sol3"
   ]
  },
  {
   "cell_type": "markdown",
   "id": "9ac2812b-2ae4-44f2-8f3a-a24f8de6e8cf",
   "metadata": {},
   "source": [
    "#### Se grafican las soluciones"
   ]
  },
  {
   "cell_type": "code",
   "execution_count": 17,
   "id": "69e37510-e353-4b1e-8580-040fc8429b45",
   "metadata": {},
   "outputs": [],
   "source": [
    "#La función lambdify permite definir una función a partir de la expresión simbólica\n",
    "func1 = sp.lambdify(t, sol1.rhs, 'numpy')\n",
    "func2 = sp.lambdify(t, sol2.rhs, 'numpy')\n",
    "func3 = sp.lambdify(t, sol3.rhs, 'numpy')"
   ]
  },
  {
   "cell_type": "code",
   "execution_count": 22,
   "id": "c3d557a9-73f6-453c-8713-28cba7fec47d",
   "metadata": {},
   "outputs": [],
   "source": [
    "#Partición\n",
    "tt = np.arange(0, 200, 1)\n",
    "#Evaluar las funciones\n",
    "pp1 = func1(tt)\n",
    "pp2 = func2(tt)\n",
    "pp3 = func3(tt)"
   ]
  },
  {
   "cell_type": "code",
   "execution_count": 25,
   "id": "00a96dd8-13d8-42b8-8fae-07fef511720d",
   "metadata": {},
   "outputs": [
    {
     "data": {
      "image/png": "[encoded data removed]",
      "text/plain": [
       "<Figure size 640x480 with 1 Axes>"
      ]
     },
     "metadata": {},
     "output_type": "display_data"
    }
   ],
   "source": [
    "#Graficar\n",
    "plt.plot(tt, pp1, 'r', tt, pp2, 'b', tt, pp3, 'g')\n",
    "plt.xlabel('Tiempo t')\n",
    "plt.ylabel('Población p(t)')\n",
    "plt.show()"
   ]
  },
  {
   "cell_type": "markdown",
   "id": "7f9aad44-c883-4412-8278-8c7cf356846e",
   "metadata": {},
   "source": [
    "#### Se clasifica y se verifica la solución"
   ]
  },
  {
   "cell_type": "code",
   "execution_count": 26,
   "id": "4cfc6ae2-58cc-48cd-930a-377aaba158f1",
   "metadata": {},
   "outputs": [
    {
     "data": {
      "text/plain": [
       "('factorable',\n",
       " 'separable',\n",
       " '1st_exact',\n",
       " 'Bernoulli',\n",
       " '1st_rational_riccati',\n",
       " '1st_power_series',\n",
       " 'lie_group',\n",
       " 'separable_Integral',\n",
       " '1st_exact_Integral',\n",
       " 'Bernoulli_Integral')"
      ]
     },
     "execution_count": 26,
     "metadata": {},
     "output_type": "execute_result"
    }
   ],
   "source": [
    "classify_ode(ode)"
   ]
  },
  {
   "cell_type": "code",
   "execution_count": 28,
   "id": "2e5f5e8f-d965-4d23-a49f-b7f73b2bea4a",
   "metadata": {},
   "outputs": [
    {
     "data": {
      "text/latex": [
       "$\\displaystyle p{\\left(t \\right)} = \\frac{a e^{a \\left(C_{1} + t\\right)}}{b \\left(e^{a \\left(C_{1} + t\\right)} - 1\\right)}$"
      ],
      "text/plain": [
       "Eq(p(t), a*exp(a*(C1 + t))/(b*(exp(a*(C1 + t)) - 1)))"
      ]
     },
     "execution_count": 28,
     "metadata": {},
     "output_type": "execute_result"
    }
   ],
   "source": [
    "sol = dsolve(ode, p(t))\n",
    "sol"
   ]
  },
  {
   "cell_type": "code",
   "execution_count": 29,
   "id": "7a442a24-0e0b-4163-b36a-5583c61c566a",
   "metadata": {},
   "outputs": [
    {
     "data": {
      "text/plain": [
       "(True, 0)"
      ]
     },
     "execution_count": 29,
     "metadata": {},
     "output_type": "execute_result"
    }
   ],
   "source": [
    "checkodesol(ode, sol)"
   ]
  },
  {
   "cell_type": "markdown",
   "id": "171c3b45-233e-4d06-9a28-74c38ad6176a",
   "metadata": {},
   "source": [
    "#### Se muestra que el denominador por sí solo no es solución"
   ]
  },
  {
   "cell_type": "code",
   "execution_count": 30,
   "id": "20c031bb-d985-4764-b463-b8dd819aec18",
   "metadata": {},
   "outputs": [
    {
     "data": {
      "text/latex": [
       "$\\displaystyle b \\left(e^{a \\left(C_{1} + t\\right)} - 1\\right)$"
      ],
      "text/plain": [
       "b*(exp(a*(C1 + t)) - 1)"
      ]
     },
     "execution_count": 30,
     "metadata": {},
     "output_type": "execute_result"
    }
   ],
   "source": [
    "C1 = sp.symbols('C1')\n",
    "sol1 = b*( exp( a*(C1+t) ) -1 )\n",
    "sol1"
   ]
  },
  {
   "cell_type": "code",
   "execution_count": 31,
   "id": "e34ebbd7-1110-42af-ab14-c58221a9ae0a",
   "metadata": {},
   "outputs": [
    {
     "data": {
      "text/plain": [
       "(False, b*(a + b**2*(1 - exp(a*(C1 + t)))**2))"
      ]
     },
     "execution_count": 31,
     "metadata": {},
     "output_type": "execute_result"
    }
   ],
   "source": [
    "checkodesol(ode, sol1)"
   ]
  },
  {
   "cell_type": "markdown",
   "id": "165550ae-467d-419d-9a0a-6c46c9c2a3f9",
   "metadata": {},
   "source": [
    "---"
   ]
  },
  {
   "cell_type": "markdown",
   "id": "0cda71f5-53c6-480d-8654-b2cf90963cdb",
   "metadata": {},
   "source": [
    "# 2. Ecuación de Lagrange"
   ]
  },
  {
   "cell_type": "markdown",
   "id": "fa0227cc-a9a3-47dc-b2f3-1547ccd9f2aa",
   "metadata": {},
   "source": [
    "#### Se definen las variables"
   ]
  },
  {
   "cell_type": "code",
   "execution_count": null,
   "id": "bce2c677-ea1f-4f6f-a90a-87355561b2ad",
   "metadata": {},
   "outputs": [],
   "source": [
    "x = sp.symbols()"
   ]
  }
 ],
 "metadata": {
  "kernelspec": {
   "display_name": "Python 3 (ipykernel)",
   "language": "python",
   "name": "python3"
  },
  "language_info": {
   "codemirror_mode": {
    "name": "ipython",
    "version": 3
   },
   "file_extension": ".py",
   "mimetype": "text/x-python",
   "name": "python",
   "nbconvert_exporter": "python",
   "pygments_lexer": "ipython3",
   "version": "3.12.4"
  }
 },
 "nbformat": 4,
 "nbformat_minor": 5
}
